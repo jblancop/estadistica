{
 "cells": [
  {
   "cell_type": "code",
   "execution_count": 2,
   "metadata": {},
   "outputs": [],
   "source": [
    "import scipy.stats as st\n",
    "import math as mt\n",
    "import numpy as np"
   ]
  },
  {
   "cell_type": "markdown",
   "metadata": {},
   "source": [
    "# Ejercicio X.1"
   ]
  },
  {
   "cell_type": "markdown",
   "metadata": {},
   "source": [
    "### Una empresa quiere determinar su gasto promedio en transporte; para ello, toma 100 desplazamientos al azar realizados por sus empleados, a partir de los cuales estima que, de media, se ha realizado un desembolso de 625 €. Gracias a estudios previos realizados, la empresa sabe que el gasto en transporte se distribuye de manera normal y que su variabilidad, estimada como desviación típica, es de 300 €. Para un nivel de confianza del 95 %, ¿a qué conclusión se puede llegar?"
   ]
  },
  {
   "cell_type": "markdown",
   "metadata": {},
   "source": [
    "Dada una VA $X$ \"gasto en transporte de la empresa\" tal que $X \\sim N(\\mu, \\sigma)$, se desea calcular $\\mu$, la media poblacional, al 95 % de confianza; esto implica determinar unas cotas tales que $P(\\lambda_{1}\\le\\mu\\le\\lambda_{2})=0,95$."
   ]
  },
  {
   "cell_type": "markdown",
   "metadata": {},
   "source": [
    "Además, se sabe que $\\sigma=300$ y se dispone de una muestra con $n=100$ y $\\bar{X}=625$:"
   ]
  },
  {
   "cell_type": "code",
   "execution_count": 3,
   "metadata": {},
   "outputs": [],
   "source": [
    "gamma = 0.95\n",
    "alfa = 1 - gamma\n",
    "sigma = 300\n",
    "n = 100\n",
    "media = 625"
   ]
  },
  {
   "cell_type": "markdown",
   "metadata": {},
   "source": [
    "Como la media poblacional es desconocida, se utiliza como estimador la media muestral, que tipificada sigue una distribución que no depende de $\\mu$:"
   ]
  },
  {
   "cell_type": "markdown",
   "metadata": {},
   "source": [
    "$$\\frac{\\bar{X}-\\mu}{\\frac{\\sigma}{\\sqrt{n}}} \\sim N(0, 1)$$"
   ]
  },
  {
   "cell_type": "markdown",
   "metadata": {},
   "source": [
    "Si se sustituye y se despeja:"
   ]
  },
  {
   "cell_type": "markdown",
   "metadata": {},
   "source": [
    "$$P(\\lambda_{1}\\le\\frac{\\bar{X}-\\mu}{\\frac{\\sigma}{\\sqrt{n}}}\\le\\lambda_{2})=P(\\bar{X}-\\lambda_{1}\\cdot\\frac{\\sigma}{\\sqrt{n}}\\le\\mu\\le\\bar{X}+\\lambda_{2}\\cdot\\frac{\\sigma}{\\sqrt{n}})$$"
   ]
  },
  {
   "cell_type": "markdown",
   "metadata": {},
   "source": [
    "Por tanto, la media poblacional se encontrará dentro de un intervalo de confianza tal que:"
   ]
  },
  {
   "cell_type": "markdown",
   "metadata": {},
   "source": [
    "$$IC_{1-\\alpha}(\\mu)=[\\bar{X}-\\lambda_{1}\\cdot\\frac{\\sigma}{\\sqrt{n}}; \\bar{X}+\\lambda_{2}\\cdot\\frac{\\sigma}{\\sqrt{n}}]$$"
   ]
  },
  {
   "cell_type": "markdown",
   "metadata": {},
   "source": [
    "Dada una normal tipo, las cotas serían aquellos valores que dejan entre medias un 95 % de la distribución; como ésta es simétrica respecto del eje de ordenadas, el 5 % restante se puede repartir equitativamente entre ambas colas y, por tanto, $\\lambda_{1} = - \\lambda_{2}$:"
   ]
  },
  {
   "cell_type": "markdown",
   "metadata": {},
   "source": [
    "$$IC_{1-\\alpha}(\\mu)=[\\bar{X}-\\lambda_{}\\cdot\\frac{\\sigma}{\\sqrt{n}}; \\bar{X}+\\lambda_{}\\cdot\\frac{\\sigma}{\\sqrt{n}}]$$"
   ]
  },
  {
   "cell_type": "markdown",
   "metadata": {},
   "source": [
    "En consecuencia, la cota -superior- equivale al cuantil que deja por debajo de sí un 0,975 de probabilidad:"
   ]
  },
  {
   "cell_type": "code",
   "execution_count": 4,
   "metadata": {},
   "outputs": [
    {
     "data": {
      "text/plain": [
       "1.959963984540054"
      ]
     },
     "execution_count": 4,
     "metadata": {},
     "output_type": "execute_result"
    }
   ],
   "source": [
    "cuantil = st.norm.ppf(q = 1 - alfa/2) #Si no se indican más parámetros, funciona como una normal tipo\n",
    "cuantil"
   ]
  },
  {
   "cell_type": "markdown",
   "metadata": {},
   "source": [
    "Así, los extremos del intervalo $IC_{95\\%}(\\mu)$ resultan ser:"
   ]
  },
  {
   "cell_type": "code",
   "execution_count": 5,
   "metadata": {},
   "outputs": [
    {
     "data": {
      "text/plain": [
       "566.2010804637983"
      ]
     },
     "execution_count": 5,
     "metadata": {},
     "output_type": "execute_result"
    }
   ],
   "source": [
    "lim_inf = media - cuantil * sigma/mt.sqrt(n)\n",
    "lim_inf"
   ]
  },
  {
   "cell_type": "code",
   "execution_count": 6,
   "metadata": {},
   "outputs": [
    {
     "data": {
      "text/plain": [
       "683.7989195362017"
      ]
     },
     "execution_count": 6,
     "metadata": {},
     "output_type": "execute_result"
    }
   ],
   "source": [
    "lim_sup = media + cuantil * sigma/mt.sqrt(n)\n",
    "lim_sup"
   ]
  },
  {
   "cell_type": "markdown",
   "metadata": {},
   "source": [
    "# Ejercicio X.2"
   ]
  },
  {
   "cell_type": "markdown",
   "metadata": {},
   "source": [
    "### A partir de una muestra de 20 linternas cuyos periodos de duración en horas han sido 503, 480, 345, 427, 386, 432, 429, 378, 440, 434, 429, 436, 451, 466, 394, 422, 412, 507, 433 y 480, se quiere obtener un intervalo de confianza al 95 % para la vida media de una población de linternas que se distribuye normalmente."
   ]
  },
  {
   "cell_type": "markdown",
   "metadata": {},
   "source": [
    "Dada una VA $X$ \"duración en horas de una linterna\" tal que $X \\sim N(\\mu, \\sigma)$, se desea calcular de nuevo $\\mu$, pero en este caso se desconoce $\\sigma$, por lo que no se puede recurrir a la tipificación de la media muestral como en el ejercicio anterior, sino que se utiliza otra función pivote, construida a partir de la combinación de $\\bar{X}$ y $S^{2}_{c}$ (la cuasivarianza muestral), que se distribuye según una t de Student con $n-1$ grados de libertad:"
   ]
  },
  {
   "cell_type": "markdown",
   "metadata": {},
   "source": [
    "$$\\frac{\\sqrt{n}\\cdot(\\bar{X}-\\mu)}{S_{c}} \\sim t_{n-1}$$"
   ]
  },
  {
   "cell_type": "markdown",
   "metadata": {},
   "source": [
    "Esto conduce al siguiente intervalo de confianza:"
   ]
  },
  {
   "cell_type": "markdown",
   "metadata": {},
   "source": [
    "$$IC_{1-\\alpha}(\\mu)=[\\bar{X}-t_{n-1,~1-\\frac{\\alpha}{2}}\\cdot\\frac{S_{c}}{\\sqrt{n}}; \\bar{X}+t_{n-1,~1-\\frac{\\alpha}{2}}\\cdot\\frac{S_{c}}{\\sqrt{n}}]=[\\bar{X}-\\lambda_{}\\cdot\\frac{S_{c}}{\\sqrt{n}}; \\bar{X}+\\lambda_{}\\cdot\\frac{S_{c}}{\\sqrt{n}}]$$"
   ]
  },
  {
   "cell_type": "markdown",
   "metadata": {},
   "source": [
    "De nuevo, se trabaja con un nivel de confianza del 95 %:"
   ]
  },
  {
   "cell_type": "code",
   "execution_count": 7,
   "metadata": {},
   "outputs": [],
   "source": [
    "gamma = 0.95\n",
    "alfa = 1 - gamma"
   ]
  },
  {
   "cell_type": "markdown",
   "metadata": {},
   "source": [
    "Como en este caso se dispone de la muestra completa, se procede a crear una lista con ella:"
   ]
  },
  {
   "cell_type": "code",
   "execution_count": 8,
   "metadata": {},
   "outputs": [],
   "source": [
    "muestra = [503, 480, 345, 427, 386, 432, 429, 378, 440, 434, 429, 436, 451, 466, 394, 422, 412, 507, 433, 480]"
   ]
  },
  {
   "cell_type": "markdown",
   "metadata": {},
   "source": [
    "Y se convierte en un *array* de NumPy:"
   ]
  },
  {
   "cell_type": "code",
   "execution_count": 9,
   "metadata": {},
   "outputs": [
    {
     "data": {
      "text/plain": [
       "array([503, 480, 345, 427, 386, 432, 429, 378, 440, 434, 429, 436, 451,\n",
       "       466, 394, 422, 412, 507, 433, 480])"
      ]
     },
     "execution_count": 9,
     "metadata": {},
     "output_type": "execute_result"
    }
   ],
   "source": [
    "muestra = np.array(muestra)\n",
    "muestra"
   ]
  },
  {
   "cell_type": "markdown",
   "metadata": {},
   "source": [
    "A partir de él se pueden obtener los estimadores puntuales necesarios:"
   ]
  },
  {
   "cell_type": "code",
   "execution_count": 10,
   "metadata": {},
   "outputs": [],
   "source": [
    "n = muestra.size\n",
    "media = np.mean(muestra)\n",
    "cuasidt = np.std(muestra, ddof = 1) #Con ddof = 0 se calcularía la desviación típica"
   ]
  },
  {
   "cell_type": "markdown",
   "metadata": {},
   "source": [
    "La t de Student es simétrica como la normal tipo, por lo que en este caso, para $n-1$ grados de libertad, también habría que buscar el cuantil que deja por debajo de sí una probabilidad de $1-\\alpha/2$:"
   ]
  },
  {
   "cell_type": "code",
   "execution_count": 11,
   "metadata": {},
   "outputs": [
    {
     "data": {
      "text/plain": [
       "2.093024054408263"
      ]
     },
     "execution_count": 11,
     "metadata": {},
     "output_type": "execute_result"
    }
   ],
   "source": [
    "cuantil = st.t.ppf(q = 1 - alfa/2, df = n - 1)\n",
    "cuantil"
   ]
  },
  {
   "cell_type": "markdown",
   "metadata": {},
   "source": [
    "Así, los extremos del intervalo $IC_{95\\%}(\\mu)$ resultan ser:"
   ]
  },
  {
   "cell_type": "code",
   "execution_count": 12,
   "metadata": {},
   "outputs": [
    {
     "data": {
      "text/plain": [
       "415.1839505632116"
      ]
     },
     "execution_count": 12,
     "metadata": {},
     "output_type": "execute_result"
    }
   ],
   "source": [
    "lim_inf = media - cuantil * cuasidt/mt.sqrt(n)\n",
    "lim_inf"
   ]
  },
  {
   "cell_type": "code",
   "execution_count": 13,
   "metadata": {},
   "outputs": [
    {
     "data": {
      "text/plain": [
       "453.21604943678835"
      ]
     },
     "execution_count": 13,
     "metadata": {},
     "output_type": "execute_result"
    }
   ],
   "source": [
    "lim_sup = media + cuantil * cuasidt/mt.sqrt(n)\n",
    "lim_sup"
   ]
  },
  {
   "cell_type": "markdown",
   "metadata": {},
   "source": [
    "Por otro lado, Python también permite determinar de forma automática el intervalo de confianza de la siguiente manera:"
   ]
  },
  {
   "cell_type": "code",
   "execution_count": 14,
   "metadata": {},
   "outputs": [
    {
     "data": {
      "text/plain": [
       "(415.1839505632116, 453.21604943678835)"
      ]
     },
     "execution_count": 14,
     "metadata": {},
     "output_type": "execute_result"
    }
   ],
   "source": [
    "st.t.interval(alpha = gamma, df = n - 1, loc = media, scale = cuasidt/mt.sqrt(n))"
   ]
  },
  {
   "cell_type": "markdown",
   "metadata": {},
   "source": [
    "# Ejercicio X.3"
   ]
  },
  {
   "cell_type": "markdown",
   "metadata": {},
   "source": [
    "### Se sabe que el peso por comprimido de un cierto preparado farmacéutico se distribuye según una gausiana. Con el objeto de estudiar la varianza de la distribución, se extrae una MAS de 6 elementos. Sabiendo que la varianza muestral es igual a 40, se pretende estimar la varianza poblacional mediante un intervalo de confianza al 90 %."
   ]
  },
  {
   "cell_type": "markdown",
   "metadata": {},
   "source": [
    "Dada una VA $X$ \"peso por comprimido de un fármaco\" tal que $X \\sim N(\\mu, \\sigma)$, se desea calcular $\\sigma^{2}$ sin que se conozca $\\mu$, lo que obliga a utilizar la siguiente función pivote, construida mediante el teorema de Fisher y que sigue una distribución chi-cuadrado con $n-1$ grados de libertad:"
   ]
  },
  {
   "cell_type": "markdown",
   "metadata": {},
   "source": [
    "$$\\sum_{i=1}^{n}\\frac{(X_{i}-\\bar{X})}{\\sigma^{2}} \\sim \\chi^{2}_{n-1}$$"
   ]
  },
  {
   "cell_type": "markdown",
   "metadata": {},
   "source": [
    "A partir de ella se puede llegar al siguiente intervalo de confianza:"
   ]
  },
  {
   "cell_type": "markdown",
   "metadata": {},
   "source": [
    "$$IC_{1-\\alpha}(\\sigma^{2})=[\\frac{n\\cdot S^{2}}{\\chi^{2}_{n-1;~1-\\frac{\\alpha}{2}}};\\frac{n\\cdot S^{2}}{\\chi^{2}_{n-1;~\\frac{\\alpha}{2}}}]=[\\frac{n\\cdot S^{2}}{\\lambda_{2}};\\frac{n\\cdot S^{2}}{\\lambda_{1}}]$$"
   ]
  },
  {
   "cell_type": "markdown",
   "metadata": {},
   "source": [
    "En este caso se trabaja al 90 % de confianza y se dispone de una muestra de $n=6$ elementos y $S^{2}=40$:"
   ]
  },
  {
   "cell_type": "code",
   "execution_count": 15,
   "metadata": {},
   "outputs": [],
   "source": [
    "gamma = 0.9\n",
    "alfa = 1 - gamma\n",
    "n = 6\n",
    "var = 40"
   ]
  },
  {
   "cell_type": "markdown",
   "metadata": {},
   "source": [
    "Dado que la chi-cuadrado no es simétrica es necesario calcular ambas cotas $\\lambda_{1}$ y $\\lambda_{2}$, siendo la primera el cuantil que deja un 5 % de la distribución ($\\alpha/2$ de probabilidad) por debajo de sí y la segunda el que deja un 95 % ($1-\\alpha/2$):"
   ]
  },
  {
   "cell_type": "code",
   "execution_count": 16,
   "metadata": {},
   "outputs": [
    {
     "data": {
      "text/plain": [
       "1.145476226061769"
      ]
     },
     "execution_count": 16,
     "metadata": {},
     "output_type": "execute_result"
    }
   ],
   "source": [
    "lambda1 = st.chi2.ppf(q = alfa/2, df = n - 1)\n",
    "lambda1"
   ]
  },
  {
   "cell_type": "code",
   "execution_count": 17,
   "metadata": {},
   "outputs": [
    {
     "data": {
      "text/plain": [
       "11.070497693516351"
      ]
     },
     "execution_count": 17,
     "metadata": {},
     "output_type": "execute_result"
    }
   ],
   "source": [
    "lambda2 = st.chi2.ppf(q = 1 - alfa/2, df = n - 1)\n",
    "lambda2"
   ]
  },
  {
   "cell_type": "markdown",
   "metadata": {},
   "source": [
    "Así, los extremos del intervalo $IC_{90\\%}(\\sigma^{2})$ resultan ser:"
   ]
  },
  {
   "cell_type": "code",
   "execution_count": 18,
   "metadata": {},
   "outputs": [
    {
     "data": {
      "text/plain": [
       "21.6792421302396"
      ]
     },
     "execution_count": 18,
     "metadata": {},
     "output_type": "execute_result"
    }
   ],
   "source": [
    "lim_inf = n * var/lambda2\n",
    "lim_inf"
   ]
  },
  {
   "cell_type": "code",
   "execution_count": 19,
   "metadata": {},
   "outputs": [
    {
     "data": {
      "text/plain": [
       "209.5198438339812"
      ]
     },
     "execution_count": 19,
     "metadata": {},
     "output_type": "execute_result"
    }
   ],
   "source": [
    "lim_sup = n * var/lambda1\n",
    "lim_sup"
   ]
  },
  {
   "cell_type": "markdown",
   "metadata": {},
   "source": [
    "# Ejercicio X.4"
   ]
  },
  {
   "cell_type": "markdown",
   "metadata": {},
   "source": [
    "### En unas elecciones, uno de los candidatos desea estimar, al 95 % de confianza, la proporción de votantes que están a su favor. Con este fin, toma una muestra aleatoria de 100 votantes y observa que el 55 % son partidarios suyos; ¿qué conclusiones puede obtener para el conjunto del electorado?"
   ]
  },
  {
   "cell_type": "markdown",
   "metadata": {},
   "source": [
    "Dada una VA $X$ \"votantes favorables\" tal que $X \\sim B(n,p)$, se desea calcular $p$ al 95 % de confianza, para lo que se dispone de una MAS con $n=100$ y $\\hat{p}=0,55$:"
   ]
  },
  {
   "cell_type": "code",
   "execution_count": 20,
   "metadata": {},
   "outputs": [],
   "source": [
    "gamma = 0.95\n",
    "alfa = 1 - gamma\n",
    "n = 100\n",
    "p = 0.55"
   ]
  },
  {
   "cell_type": "markdown",
   "metadata": {},
   "source": [
    "Dado que $n\\ge30$, por el TCL en su forma LL, la proporción muestral se puede convertir en una función pivote distribuida -aproximadamente- según una normal tipo:"
   ]
  },
  {
   "cell_type": "markdown",
   "metadata": {},
   "source": [
    "$$\\frac{\\hat{p}-p}{\\sqrt{\\frac{p\\cdot(1-p)}{n}}} \\xrightarrow{d} N(0, 1)$$"
   ]
  },
  {
   "cell_type": "markdown",
   "metadata": {},
   "source": [
    "Y a partir de la cual se puede llegar al siguiente intervalo de confianza:"
   ]
  },
  {
   "cell_type": "markdown",
   "metadata": {},
   "source": [
    "$$IC_{1-\\alpha}(p)=[\\hat{p}\\pm Z_{1-\\frac{\\alpha}{2}}\\cdot\\sqrt{\\frac{\\hat{p}\\cdot(1-\\hat{p})}{n}}]=[\\hat{p}\\pm \\lambda_{}\\cdot\\sqrt{\\frac{\\hat{p}\\cdot(1-\\hat{p})}{n}}]$$"
   ]
  },
  {
   "cell_type": "markdown",
   "metadata": {},
   "source": [
    "El cálculo del cuantil es análogo al del primer ejercicio:"
   ]
  },
  {
   "cell_type": "code",
   "execution_count": 21,
   "metadata": {},
   "outputs": [
    {
     "data": {
      "text/plain": [
       "1.959963984540054"
      ]
     },
     "execution_count": 21,
     "metadata": {},
     "output_type": "execute_result"
    }
   ],
   "source": [
    "cuantil = st.norm.ppf(q = 1 - alfa/2)\n",
    "cuantil"
   ]
  },
  {
   "cell_type": "markdown",
   "metadata": {},
   "source": [
    "Así, los extremos del intervalo $IC_{95\\%}(p)$ resultan ser:"
   ]
  },
  {
   "cell_type": "code",
   "execution_count": 22,
   "metadata": {},
   "outputs": [
    {
     "data": {
      "text/plain": [
       "0.45249302291006066"
      ]
     },
     "execution_count": 22,
     "metadata": {},
     "output_type": "execute_result"
    }
   ],
   "source": [
    "lim_inf = p - cuantil * mt.sqrt((p * (1 - p))/n)\n",
    "lim_inf"
   ]
  },
  {
   "cell_type": "code",
   "execution_count": 23,
   "metadata": {},
   "outputs": [
    {
     "data": {
      "text/plain": [
       "0.6475069770899394"
      ]
     },
     "execution_count": 23,
     "metadata": {},
     "output_type": "execute_result"
    }
   ],
   "source": [
    "lim_sup = p + cuantil * mt.sqrt((p * (1 - p))/n)\n",
    "lim_sup"
   ]
  },
  {
   "cell_type": "markdown",
   "metadata": {},
   "source": [
    "Por otro lado, Python también permite determinar de forma automática el intervalo de confianza de la siguiente manera:"
   ]
  },
  {
   "cell_type": "code",
   "execution_count": 24,
   "metadata": {},
   "outputs": [
    {
     "data": {
      "text/plain": [
       "(0.45249302291006066, 0.6475069770899394)"
      ]
     },
     "execution_count": 24,
     "metadata": {},
     "output_type": "execute_result"
    }
   ],
   "source": [
    "st.norm.interval(alpha = gamma, loc = p, scale = mt.sqrt((p * (1 - p))/n))"
   ]
  }
 ],
 "metadata": {
  "kernelspec": {
   "display_name": "Python 3",
   "language": "python",
   "name": "python3"
  },
  "language_info": {
   "codemirror_mode": {
    "name": "ipython",
    "version": 3
   },
   "file_extension": ".py",
   "mimetype": "text/x-python",
   "name": "python",
   "nbconvert_exporter": "python",
   "pygments_lexer": "ipython3",
   "version": "3.8.5"
  }
 },
 "nbformat": 4,
 "nbformat_minor": 4
}
