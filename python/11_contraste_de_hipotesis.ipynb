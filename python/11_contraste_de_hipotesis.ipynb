{
 "cells": [
  {
   "cell_type": "code",
   "execution_count": 13,
   "metadata": {},
   "outputs": [],
   "source": [
    "import scipy.stats as st\n",
    "import math as mt"
   ]
  },
  {
   "cell_type": "markdown",
   "metadata": {},
   "source": [
    "# Ejercicio XI.1"
   ]
  },
  {
   "cell_type": "markdown",
   "metadata": {},
   "source": [
    "### En una región se cree que la altura media de sus habitantes mayores de 18 años es 175 cm y se acepta un modelo normal para la distribución de alturas con desviación típica poblacional de 9 cm. Para un nivel de significación del 5 % y a partir de una MAS de tamaño 25 cuya media arroja un valor de 172 cm, ¿qué se puede decir sobre la suposición inicial?"
   ]
  },
  {
   "cell_type": "markdown",
   "metadata": {},
   "source": [
    "Dada una VA $X$ \"altura de los habitantes mayores de edad\" tal que $X \\sim N(175, 9)$, se desea realizar el siguiente contraste de hipótesis para un nivel de significación del 5 %:"
   ]
  },
  {
   "cell_type": "markdown",
   "metadata": {},
   "source": [
    "$$\n",
    "\\left\\{\n",
    "  \\begin{array}{ll} \n",
    "    H_{0}: \\mu = 175 \\\\\n",
    "    H_{1}: \\mu \\ne 175\n",
    "  \\end{array}\n",
    "\\right.\n",
    "$$"
   ]
  },
  {
   "cell_type": "markdown",
   "metadata": {},
   "source": [
    "Para ello, se dispone de una MAS con $n = 25$ y $\\bar{X} = 172$:"
   ]
  },
  {
   "cell_type": "code",
   "execution_count": 14,
   "metadata": {},
   "outputs": [],
   "source": [
    "alfa = 0.05\n",
    "mu = 175\n",
    "sigma = 9\n",
    "n = 25\n",
    "media = 172"
   ]
  },
  {
   "cell_type": "markdown",
   "metadata": {},
   "source": [
    "La media muestral se puede tipificar, de manera que, bajo el supuesto de que $H_{0}$ no sea falsa, $d$ sigue una distribución normal tipo:"
   ]
  },
  {
   "cell_type": "markdown",
   "metadata": {},
   "source": [
    "$$d = \\frac{\\bar{X}-\\mu}{\\frac{\\sigma}{\\sqrt{n}}} \\sim N(0, 1)$$"
   ]
  },
  {
   "cell_type": "markdown",
   "metadata": {},
   "source": [
    "Este estadístico ofrece una medida de la discrepancia entre la evidencia muestral, representada por $\\bar{X}$, y la hipótesis nula, representada por $\\mu$, por lo que puede ser usado para validar el contraste."
   ]
  },
  {
   "cell_type": "markdown",
   "metadata": {},
   "source": [
    "Al tratarse de un contraste bilateral, se reparte el nivel de significación entre ambas colas de la normal tipo para estimar los dos valores críticos que separan la región de aceptación central de las de rechazo periféricas; como se trata de una distribución simétrica, $d_{c_{1}} = -d_{c_{2}}$."
   ]
  },
  {
   "cell_type": "markdown",
   "metadata": {},
   "source": [
    "Así, $d_{c_{2}}$ resulta ser el cuantil que deja el 2,5 % de la distribución por encima de sí, es decir, el 0,975 de la probabilidad por debajo:"
   ]
  },
  {
   "cell_type": "code",
   "execution_count": 15,
   "metadata": {},
   "outputs": [
    {
     "data": {
      "text/plain": [
       "1.959963984540054"
      ]
     },
     "execution_count": 15,
     "metadata": {},
     "output_type": "execute_result"
    }
   ],
   "source": [
    "dc2 = st.norm.ppf(q = 1 - alfa/2) #Si no se indican más parámetros, funciona como una normal tipo\n",
    "dc2"
   ]
  },
  {
   "cell_type": "markdown",
   "metadata": {},
   "source": [
    "Se construye la región de aceptación en forma de lista:"
   ]
  },
  {
   "cell_type": "code",
   "execution_count": 16,
   "metadata": {},
   "outputs": [
    {
     "data": {
      "text/plain": [
       "[-1.959963984540054, 1.959963984540054]"
      ]
     },
     "execution_count": 16,
     "metadata": {},
     "output_type": "execute_result"
    }
   ],
   "source": [
    "RA = [-dc2, dc2]\n",
    "RA"
   ]
  },
  {
   "cell_type": "markdown",
   "metadata": {},
   "source": [
    "Por otro lado, el valor observado par el estadístico resulta ser:"
   ]
  },
  {
   "cell_type": "code",
   "execution_count": 17,
   "metadata": {},
   "outputs": [
    {
     "data": {
      "text/plain": [
       "-1.6666666666666665"
      ]
     },
     "execution_count": 17,
     "metadata": {},
     "output_type": "execute_result"
    }
   ],
   "source": [
    "d0 = (media - mu)/(sigma/mt.sqrt(n))\n",
    "d0"
   ]
  },
  {
   "cell_type": "markdown",
   "metadata": {},
   "source": [
    "Que, como se puede comprobar, quedaría incluido en la región de aceptación, por lo que no habría razones para rechazar la hipótesis nula:"
   ]
  },
  {
   "cell_type": "code",
   "execution_count": 18,
   "metadata": {},
   "outputs": [
    {
     "data": {
      "text/plain": [
       "True"
      ]
     },
     "execution_count": 18,
     "metadata": {},
     "output_type": "execute_result"
    }
   ],
   "source": [
    "d0 >= min(RA) and d0 <= max(RA)"
   ]
  },
  {
   "cell_type": "markdown",
   "metadata": {},
   "source": [
    "# Ejercicio XI.2"
   ]
  },
  {
   "cell_type": "markdown",
   "metadata": {},
   "source": [
    "### El volumen (en miles de litros) que diariamente venía envasando una planta embotelladora se distribuye según una normal con media 150 y desviación típica 5. Sin embargo, hace tres meses que se han introducido cambios en el proceso productivo y se quiere comprobar si suponen una ventaja comparativa antes de convertirlos en definitivos. Para ello, el jefe de planta ha tomado una MAS de 25 días y ha concluido que el volumen medio embotellado es 153. Suponiendo que la varianza no ha cambiado, se pide plantear un contraste de hipótesis con una significación del 2 % para tomar una decisión."
   ]
  },
  {
   "cell_type": "markdown",
   "metadata": {},
   "source": [
    "Dada una VA $X$ \"volumen diario en miles de litros\" tal que $X \\sim N(150, 5)$, se desea realizar el siguiente contraste de hipótesis para un nivel de significación del 2 %:"
   ]
  },
  {
   "cell_type": "markdown",
   "metadata": {},
   "source": [
    "$$\n",
    "\\left\\{\n",
    "  \\begin{array}{ll} \n",
    "    H_{0}: \\mu = 150 \\\\\n",
    "    H_{1}: \\mu > 150\n",
    "  \\end{array}\n",
    "\\right.\n",
    "$$"
   ]
  },
  {
   "cell_type": "markdown",
   "metadata": {},
   "source": [
    "Para ello, se dispone de una MAS con $n = 25$ y $\\bar{X} = 153$:"
   ]
  },
  {
   "cell_type": "code",
   "execution_count": 19,
   "metadata": {},
   "outputs": [],
   "source": [
    "alfa = 0.02\n",
    "mu = 150\n",
    "sigma = 5\n",
    "n = 25\n",
    "media = 153"
   ]
  },
  {
   "cell_type": "markdown",
   "metadata": {},
   "source": [
    "El estadístico es análogo al del anterior ejercicio y su valor observado resulta ser:"
   ]
  },
  {
   "cell_type": "code",
   "execution_count": 20,
   "metadata": {},
   "outputs": [
    {
     "data": {
      "text/plain": [
       "3.0"
      ]
     },
     "execution_count": 20,
     "metadata": {},
     "output_type": "execute_result"
    }
   ],
   "source": [
    "d0 = (media - mu)/(sigma/mt.sqrt(n))\n",
    "d0"
   ]
  },
  {
   "cell_type": "markdown",
   "metadata": {},
   "source": [
    "En este caso, el contraste se va a resolver mediante el método del p-valor:"
   ]
  },
  {
   "cell_type": "markdown",
   "metadata": {},
   "source": [
    "$$p = P(d > d_{0}|H_{0}) = P(d > 3)$$"
   ]
  },
  {
   "cell_type": "markdown",
   "metadata": {},
   "source": [
    "La probabilidad que deja por encima de sí un valor de 3 -el observado para el estadístico- es muy pequeña:"
   ]
  },
  {
   "cell_type": "code",
   "execution_count": 21,
   "metadata": {},
   "outputs": [
    {
     "data": {
      "text/plain": [
       "0.0013498980316301035"
      ]
     },
     "execution_count": 21,
     "metadata": {},
     "output_type": "execute_result"
    }
   ],
   "source": [
    "p = 1 - st.norm.cdf(d0)\n",
    "p"
   ]
  },
  {
   "cell_type": "markdown",
   "metadata": {},
   "source": [
    "Al ser el p-valor inferior al nivel de significación, se puede rechazar la hipótesis nula en favor de la alternativa:"
   ]
  },
  {
   "cell_type": "code",
   "execution_count": 22,
   "metadata": {},
   "outputs": [
    {
     "data": {
      "text/plain": [
       "True"
      ]
     },
     "execution_count": 22,
     "metadata": {},
     "output_type": "execute_result"
    }
   ],
   "source": [
    "p < alfa"
   ]
  },
  {
   "cell_type": "markdown",
   "metadata": {},
   "source": [
    "A modo de comprobación, se puede resolver el contraste de manera análoga al del anterior ejercicio; dado que en esta ocasión se trata de un contraste unilateral, el nivel de significación se concentra por completo en el extremo derecho, por lo que el cuantil que deja por debajo de sí una probabilidad de $1 - \\alpha$ resulta ser:"
   ]
  },
  {
   "cell_type": "code",
   "execution_count": 23,
   "metadata": {},
   "outputs": [
    {
     "data": {
      "text/plain": [
       "2.3263478740408408"
      ]
     },
     "execution_count": 23,
     "metadata": {},
     "output_type": "execute_result"
    }
   ],
   "source": [
    "dc = st.norm.ppf(q = 1 - alfa/2)\n",
    "dc"
   ]
  },
  {
   "cell_type": "markdown",
   "metadata": {},
   "source": [
    "El valor observado es superior, por lo que se encuentra en la zona de rechazo:"
   ]
  },
  {
   "cell_type": "code",
   "execution_count": 24,
   "metadata": {},
   "outputs": [
    {
     "data": {
      "text/plain": [
       "True"
      ]
     },
     "execution_count": 24,
     "metadata": {},
     "output_type": "execute_result"
    }
   ],
   "source": [
    "d0 >= dc"
   ]
  },
  {
   "cell_type": "markdown",
   "metadata": {},
   "source": [
    "# Ejercicio XI.3"
   ]
  },
  {
   "cell_type": "markdown",
   "metadata": {},
   "source": [
    "### Los rodamientos esféricos que fabrica una máquina han de tener un diámetro uniforme para ser aptos para su uso. El responsable del taller asegura que la varianza es de 0,0250 cm<sup>2</sup>, pero al tomar una muestra de 50 elementos se obtiene un valor de 0,0272 cm<sup>2</sup>; ¿qué se puede concluir?"
   ]
  },
  {
   "cell_type": "markdown",
   "metadata": {},
   "source": [
    "Dada una VA $X$ \"diámetro de un rodamiento esférico\" tal que $X \\sim N(\\mu, 0,025)$, se desea realizar el siguiente contraste de hipótesis:"
   ]
  },
  {
   "cell_type": "markdown",
   "metadata": {},
   "source": [
    "$$\n",
    "\\left\\{\n",
    "  \\begin{array}{ll} \n",
    "    H_{0}: \\sigma^{2} = 0,025 \\\\\n",
    "    H_{1}: \\sigma^{2} > 0,025\n",
    "  \\end{array}\n",
    "\\right.\n",
    "$$"
   ]
  },
  {
   "cell_type": "markdown",
   "metadata": {},
   "source": [
    "Se asume un nivel de significación del 5 %:"
   ]
  },
  {
   "cell_type": "code",
   "execution_count": 25,
   "metadata": {},
   "outputs": [],
   "source": [
    "alfa = 0.05\n",
    "sigma2 = 0.025\n",
    "n = 50\n",
    "var = 0.0272"
   ]
  },
  {
   "cell_type": "markdown",
   "metadata": {},
   "source": [
    "Como se desconoce la media poblacional, se ha de recurrir al siguiente estadístico:"
   ]
  },
  {
   "cell_type": "markdown",
   "metadata": {},
   "source": [
    "$$d = \\frac{n-S^{2}}{\\sigma^{2}} \\sim \\chi^{2}_{n-1}$$"
   ]
  },
  {
   "cell_type": "markdown",
   "metadata": {},
   "source": [
    "Dado que se trata de un contraste unilateral a la derecha, se ha de encontrar el cuantil de la distribución chi-cuadrado que deja tras de sí una probabilidad de $1 - \\alpha$ para $n - 1$ grados de libertad:"
   ]
  },
  {
   "cell_type": "code",
   "execution_count": 29,
   "metadata": {},
   "outputs": [
    {
     "data": {
      "text/plain": [
       "66.3386488629688"
      ]
     },
     "execution_count": 29,
     "metadata": {},
     "output_type": "execute_result"
    }
   ],
   "source": [
    "dc = st.chi2.ppf(q = 1 - alfa, df = n - 1)\n",
    "dc"
   ]
  },
  {
   "cell_type": "markdown",
   "metadata": {},
   "source": [
    "Bajo la hipótesis nula, el valor esperado resulta ser:"
   ]
  },
  {
   "cell_type": "code",
   "execution_count": 30,
   "metadata": {},
   "outputs": [
    {
     "data": {
      "text/plain": [
       "54.39999999999999"
      ]
     },
     "execution_count": 30,
     "metadata": {},
     "output_type": "execute_result"
    }
   ],
   "source": [
    "d0 = n * var/sigma2\n",
    "d0"
   ]
  },
  {
   "cell_type": "markdown",
   "metadata": {},
   "source": [
    "Que se encuentra claramente en la región de aceptación, por lo que no se podría rechazar $H_{0}$:"
   ]
  },
  {
   "cell_type": "code",
   "execution_count": 31,
   "metadata": {},
   "outputs": [
    {
     "data": {
      "text/plain": [
       "True"
      ]
     },
     "execution_count": 31,
     "metadata": {},
     "output_type": "execute_result"
    }
   ],
   "source": [
    "d0 <= dc"
   ]
  }
 ],
 "metadata": {
  "kernelspec": {
   "display_name": "Python 3",
   "language": "python",
   "name": "python3"
  },
  "language_info": {
   "codemirror_mode": {
    "name": "ipython",
    "version": 3
   },
   "file_extension": ".py",
   "mimetype": "text/x-python",
   "name": "python",
   "nbconvert_exporter": "python",
   "pygments_lexer": "ipython3",
   "version": "3.8.5"
  }
 },
 "nbformat": 4,
 "nbformat_minor": 4
}
