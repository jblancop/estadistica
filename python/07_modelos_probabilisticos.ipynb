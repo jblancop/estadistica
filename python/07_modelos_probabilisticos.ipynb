{
 "cells": [
  {
   "cell_type": "code",
   "execution_count": 14,
   "metadata": {},
   "outputs": [],
   "source": [
    "from scipy.stats import binom\n",
    "from scipy.stats import poisson\n",
    "from scipy.stats import expon\n",
    "import numpy as np\n",
    "import matplotlib.pyplot as plt"
   ]
  },
  {
   "cell_type": "markdown",
   "metadata": {},
   "source": [
    "# Ejercicio VII.1"
   ]
  },
  {
   "cell_type": "markdown",
   "metadata": {},
   "source": [
    "### En una población de animales, se sabe que el 60 % son machos. Si se toma una muestra de 10 individuos, ¿cuál es la probabilidad de que 7 sean hembras?"
   ]
  },
  {
   "cell_type": "markdown",
   "metadata": {},
   "source": [
    "Mediante la función de cuantía de la binomial (que para un tamaño unidad, $n=1$, equivale a una bernoulli), se puede determinar la probabilidad ($q$) de que un individuo tomado al azar sea hembra ($Y=0$) sabiendo que el 60 % son machos ($p=0,6$):"
   ]
  },
  {
   "cell_type": "code",
   "execution_count": 15,
   "metadata": {},
   "outputs": [
    {
     "data": {
      "text/plain": [
       "0.4"
      ]
     },
     "execution_count": 15,
     "metadata": {},
     "output_type": "execute_result"
    }
   ],
   "source": [
    "Y = 0\n",
    "n = 1\n",
    "p = 0.6\n",
    "\n",
    "q = binom.pmf(Y, n, p)\n",
    "q"
   ]
  },
  {
   "cell_type": "markdown",
   "metadata": {},
   "source": [
    "De esta manera, la probabilidad, en tanto por ciento, de que en la muestra del enunciado ($n=10$) haya siete hembras ($X=7$) es:"
   ]
  },
  {
   "cell_type": "code",
   "execution_count": 16,
   "metadata": {},
   "outputs": [
    {
     "data": {
      "text/plain": [
       "4.25"
      ]
     },
     "execution_count": 16,
     "metadata": {},
     "output_type": "execute_result"
    }
   ],
   "source": [
    "X = 7\n",
    "n = 10\n",
    "\n",
    "p7 = binom.pmf(X, n, q)\n",
    "\n",
    "p7Porc = round(p7 * 100, 2)\n",
    "p7Porc"
   ]
  },
  {
   "cell_type": "markdown",
   "metadata": {},
   "source": [
    "A continuación se representan la función de cuantía y de distribución de una $B(10; 0,4)$:"
   ]
  },
  {
   "cell_type": "code",
   "execution_count": 17,
   "metadata": {},
   "outputs": [
    {
     "data": {
      "image/png": "[encoded data removed]",
      "text/plain": [
       "<Figure size 432x288 with 2 Axes>"
      ]
     },
     "metadata": {
      "needs_background": "light"
     },
     "output_type": "display_data"
    }
   ],
   "source": [
    "x = np.arange(11) #Secuencia de valores\n",
    "\n",
    "plt.subplot(1, 2, 1) #Dispone los gráficos (aquí se hace referencia al primero) en una fila y dos columnas\n",
    "\n",
    "plt.plot(x, binom.pmf(x, n, q), \"o\") #Función de cuantía\n",
    "plt.xlim(-1, 11) #Ampliación del eje x\n",
    "\n",
    "plt.title(\"Función de cuantía\", fontsize = 14)\n",
    "plt.xlabel(\"X\", fontsize = 14)\n",
    "plt.ylabel(\"f(x)\", fontsize = 14)\n",
    "\n",
    "plt.subplot(1, 2, 2) #Segundo gráfico\n",
    "\n",
    "plt.plot(x, binom.cdf(x, n, q)) #Función de distribución\n",
    "plt.xlim(-1, 11) #Ampliación del eje x\n",
    "\n",
    "plt.title(\"Función de distribución\", fontsize = 14)\n",
    "plt.xlabel(\"X\", fontsize = 14)\n",
    "plt.ylabel(\"F(x)\", fontsize = 14)\n",
    "\n",
    "plt.tight_layout() #Evita que se solapen ambos gráficos\n",
    "\n",
    "plt.show()"
   ]
  },
  {
   "cell_type": "markdown",
   "metadata": {},
   "source": [
    "# Ejercicio VII.2"
   ]
  },
  {
   "cell_type": "markdown",
   "metadata": {},
   "source": [
    "### El número medio de vehículos por minuto que llegan a una gasolinera es igual a dos."
   ]
  },
  {
   "cell_type": "markdown",
   "metadata": {},
   "source": [
    "### a) *¿Cuál es la probabilidad de que en un minuto lleguen cinco vehículos?*"
   ]
  },
  {
   "cell_type": "markdown",
   "metadata": {},
   "source": [
    "Se trata de un proceso de Poisson con $\\lambda = 2$ y soporte (temporal) unitario; por tanto, la probabilidad en tanto por ciento de que $X=5$ es:"
   ]
  },
  {
   "cell_type": "code",
   "execution_count": 18,
   "metadata": {},
   "outputs": [
    {
     "data": {
      "text/plain": [
       "3.61"
      ]
     },
     "execution_count": 18,
     "metadata": {},
     "output_type": "execute_result"
    }
   ],
   "source": [
    "X = 5\n",
    "l = 2\n",
    "t = 1\n",
    "\n",
    "p5 = poisson.pmf(X, l * t)\n",
    "\n",
    "p5Porc = round(p5 * 100, 2)\n",
    "p5Porc"
   ]
  },
  {
   "cell_type": "markdown",
   "metadata": {},
   "source": [
    "### b) *¿Cuál es la probabilidad de que en cinco minutos no llegue ninguno?*"
   ]
  },
  {
   "cell_type": "markdown",
   "metadata": {},
   "source": [
    "La unidad de soporte cambia de 1 a 5; por tanto, la probabilidad en tanto por ciento de que $Y=0$ es:"
   ]
  },
  {
   "cell_type": "code",
   "execution_count": 19,
   "metadata": {},
   "outputs": [
    {
     "data": {
      "text/plain": [
       "0.0045"
      ]
     },
     "execution_count": 19,
     "metadata": {},
     "output_type": "execute_result"
    }
   ],
   "source": [
    "Y = 0\n",
    "t = 5\n",
    "\n",
    "p0 = poisson.pmf(Y, l * t)\n",
    "\n",
    "p0Porc = round(p0 * 100, 4)\n",
    "p0Porc"
   ]
  },
  {
   "cell_type": "markdown",
   "metadata": {},
   "source": [
    "# Ejercicio VII.3"
   ]
  },
  {
   "cell_type": "markdown",
   "metadata": {},
   "source": [
    "### Con los datos del anterior ejercicio, y suponiendo que acaba de llegar un vehículo, calcular la probabilidad de que transcurran más de cinco minutos hasta que aparezca el siguiente."
   ]
  },
  {
   "cell_type": "markdown",
   "metadata": {},
   "source": [
    "Se define una variable aleatoria continua $Z$ \"tiempo transcurrido entre la llegada de dos coches\" que sigue una distribución exponencial con $\\lambda = 2$ (dado que el número medio de vehículos sigue siendo el especificado en el anterior ejercicio)."
   ]
  },
  {
   "cell_type": "markdown",
   "metadata": {},
   "source": [
    "Así, la probabilidad de que $Z$ tome un valor igual o menor a cinco es:"
   ]
  },
  {
   "cell_type": "code",
   "execution_count": 20,
   "metadata": {},
   "outputs": [
    {
     "data": {
      "text/plain": [
       "0.9999546000702375"
      ]
     },
     "execution_count": 20,
     "metadata": {},
     "output_type": "execute_result"
    }
   ],
   "source": [
    "Z = 5\n",
    "E = 1/l\n",
    "\n",
    "pZmenor5 = expon.cdf(Z, scale = E) #Como parámetro se pasa la esperanza de la VA\n",
    "pZmenor5 #En realidad, menor o igual que"
   ]
  },
  {
   "cell_type": "markdown",
   "metadata": {},
   "source": [
    "Pero como en realidad se pide que el tiempo transcurrido sea superior a cinco:"
   ]
  },
  {
   "cell_type": "code",
   "execution_count": 21,
   "metadata": {},
   "outputs": [
    {
     "data": {
      "text/plain": [
       "4.539992976249074e-05"
      ]
     },
     "execution_count": 21,
     "metadata": {},
     "output_type": "execute_result"
    }
   ],
   "source": [
    "pZmayor5 = 1 - pZmenor5\n",
    "pZmayor5"
   ]
  },
  {
   "cell_type": "markdown",
   "metadata": {},
   "source": [
    "Que en tanto por ciento equivale al valor obtenido en el segundo apartado del anterior ejercicio:"
   ]
  },
  {
   "cell_type": "code",
   "execution_count": 22,
   "metadata": {},
   "outputs": [
    {
     "data": {
      "text/plain": [
       "0.0045"
      ]
     },
     "execution_count": 22,
     "metadata": {},
     "output_type": "execute_result"
    }
   ],
   "source": [
    "pZmayor5Porc = round(pZmayor5 * 100, 4)\n",
    "pZmayor5Porc"
   ]
  }
 ],
 "metadata": {
  "kernelspec": {
   "display_name": "Python 3 (ipykernel)",
   "language": "python",
   "name": "python3"
  },
  "language_info": {
   "codemirror_mode": {
    "name": "ipython",
    "version": 3
   },
   "file_extension": ".py",
   "mimetype": "text/x-python",
   "name": "python",
   "nbconvert_exporter": "python",
   "pygments_lexer": "ipython3",
   "version": "3.9.12"
  }
 },
 "nbformat": 4,
 "nbformat_minor": 4
}
