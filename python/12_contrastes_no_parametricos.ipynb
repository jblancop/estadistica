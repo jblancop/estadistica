{
 "cells": [
  {
   "cell_type": "code",
   "execution_count": 94,
   "metadata": {},
   "outputs": [],
   "source": [
    "import numpy as np\n",
    "import pandas as pd\n",
    "from scipy.stats import shapiro as sh\n",
    "from scipy.stats import wilcoxon as wil"
   ]
  },
  {
   "cell_type": "markdown",
   "metadata": {},
   "source": [
    "# Ejercicio XII.1"
   ]
  },
  {
   "cell_type": "markdown",
   "metadata": {},
   "source": [
    "### Se desea contrastar la hipótesis de normalidad de una población de la cual se ha extraído la siguiente muestra: 12,3; 11,0; 10,7; 12,4; 11,7; 13,1; 9,9; 12,6; 11,8; 10,2 y 10,5."
   ]
  },
  {
   "cell_type": "markdown",
   "metadata": {},
   "source": [
    "Se toma un nivel de significación, $\\alpha$, del 5 %:"
   ]
  },
  {
   "cell_type": "code",
   "execution_count": 95,
   "metadata": {},
   "outputs": [],
   "source": [
    "alfa = 0.05"
   ]
  },
  {
   "cell_type": "markdown",
   "metadata": {},
   "source": [
    "En primer lugar, se define una lista con la muestra:"
   ]
  },
  {
   "cell_type": "code",
   "execution_count": 96,
   "metadata": {},
   "outputs": [],
   "source": [
    "muestra = [12.3, 11.0, 10.7, 12.4, 11.7, 13.1, 9.9, 12.6, 11.8, 10.2, 10.5]"
   ]
  },
  {
   "cell_type": "markdown",
   "metadata": {},
   "source": [
    "Y se convierte en una matriz de NumPy:"
   ]
  },
  {
   "cell_type": "code",
   "execution_count": 97,
   "metadata": {},
   "outputs": [
    {
     "data": {
      "text/plain": [
       "array([12.3, 11. , 10.7, 12.4, 11.7, 13.1,  9.9, 12.6, 11.8, 10.2, 10.5])"
      ]
     },
     "execution_count": 97,
     "metadata": {},
     "output_type": "execute_result"
    }
   ],
   "source": [
    "muestra = np.array(muestra)\n",
    "muestra"
   ]
  },
  {
   "cell_type": "markdown",
   "metadata": {},
   "source": [
    "Para aplicar el contraste de Shapiro-Wilk se necesita, en primer lugar, determinar el tamaño muestral:"
   ]
  },
  {
   "cell_type": "code",
   "execution_count": 98,
   "metadata": {},
   "outputs": [
    {
     "data": {
      "text/plain": [
       "11"
      ]
     },
     "execution_count": 98,
     "metadata": {},
     "output_type": "execute_result"
    }
   ],
   "source": [
    "n = muestra.size\n",
    "n"
   ]
  },
  {
   "cell_type": "markdown",
   "metadata": {},
   "source": [
    "Para $n = 11$, los valores tabulados de Shapiro-Wilk -obtenidos a partir de la tabla correspondiente- resultan ser los siguientes:"
   ]
  },
  {
   "cell_type": "code",
   "execution_count": 99,
   "metadata": {},
   "outputs": [],
   "source": [
    "coeficientes = [0.5601, 0.3315, 0.2260, 0.1429, 0.0695]\n",
    "coeficientes = np.array(coeficientes)"
   ]
  },
  {
   "cell_type": "markdown",
   "metadata": {},
   "source": [
    "Se calcula asimismo la mediana de la muestra:"
   ]
  },
  {
   "cell_type": "code",
   "execution_count": 100,
   "metadata": {},
   "outputs": [
    {
     "data": {
      "text/plain": [
       "11.7"
      ]
     },
     "execution_count": 100,
     "metadata": {},
     "output_type": "execute_result"
    }
   ],
   "source": [
    "mediana = np.median(muestra)\n",
    "mediana"
   ]
  },
  {
   "cell_type": "markdown",
   "metadata": {},
   "source": [
    "Se parte la matriz muestral en dos submatrices, una que contenga los valores superiores a la mediana y otra con\n",
    "los inferiores, y se ordenan de manera inversa para posteriormente poder calcular las diferencias entre los\n",
    "pares de valores que equidistan entre sí:"
   ]
  },
  {
   "cell_type": "code",
   "execution_count": 101,
   "metadata": {},
   "outputs": [],
   "source": [
    "submuestra1 = np.sort(muestra[muestra > mediana])\n",
    "submuestra1 = submuestra1[::-1] #Ordena los elementos decrecientemente\n",
    "\n",
    "submuestra2 = np.sort(muestra[muestra < mediana])\n",
    "\n",
    "diferencias = submuestra1 - submuestra2"
   ]
  },
  {
   "cell_type": "markdown",
   "metadata": {},
   "source": [
    "Las diferencias se multiplican por los coeficientes para obtener los valores que, sumados, proporcionan el\n",
    "numerador del estadístico experimental de Shapiro-Wilk:"
   ]
  },
  {
   "cell_type": "code",
   "execution_count": 102,
   "metadata": {},
   "outputs": [],
   "source": [
    "sumandos = diferencias * coeficientes"
   ]
  },
  {
   "cell_type": "markdown",
   "metadata": {},
   "source": [
    "Todas estas variables se pueden presentar de forma resumida en una tabla, construida como marco de datos de Pandas, para facilitar su visualización:"
   ]
  },
  {
   "cell_type": "code",
   "execution_count": 103,
   "metadata": {},
   "outputs": [
    {
     "data": {
      "text/html": [
       "<div>\n",
       "<style scoped>\n",
       "    .dataframe tbody tr th:only-of-type {\n",
       "        vertical-align: middle;\n",
       "    }\n",
       "\n",
       "    .dataframe tbody tr th {\n",
       "        vertical-align: top;\n",
       "    }\n",
       "\n",
       "    .dataframe thead th {\n",
       "        text-align: right;\n",
       "    }\n",
       "</style>\n",
       "<table border=\"1\" class=\"dataframe\">\n",
       "  <thead>\n",
       "    <tr style=\"text-align: right;\">\n",
       "      <th></th>\n",
       "      <th>x_n-i+1</th>\n",
       "      <th>x_i</th>\n",
       "      <th>x_n-i+1 - x_i</th>\n",
       "      <th>a_n-i+i</th>\n",
       "      <th>(x_n-i+1 - x_i)(a_n-i+1)</th>\n",
       "    </tr>\n",
       "  </thead>\n",
       "  <tbody>\n",
       "    <tr>\n",
       "      <th>0</th>\n",
       "      <td>13.1</td>\n",
       "      <td>9.9</td>\n",
       "      <td>3.2</td>\n",
       "      <td>0.5601</td>\n",
       "      <td>1.79232</td>\n",
       "    </tr>\n",
       "    <tr>\n",
       "      <th>1</th>\n",
       "      <td>12.6</td>\n",
       "      <td>10.2</td>\n",
       "      <td>2.4</td>\n",
       "      <td>0.3315</td>\n",
       "      <td>0.79560</td>\n",
       "    </tr>\n",
       "    <tr>\n",
       "      <th>2</th>\n",
       "      <td>12.4</td>\n",
       "      <td>10.5</td>\n",
       "      <td>1.9</td>\n",
       "      <td>0.2260</td>\n",
       "      <td>0.42940</td>\n",
       "    </tr>\n",
       "    <tr>\n",
       "      <th>3</th>\n",
       "      <td>12.3</td>\n",
       "      <td>10.7</td>\n",
       "      <td>1.6</td>\n",
       "      <td>0.1429</td>\n",
       "      <td>0.22864</td>\n",
       "    </tr>\n",
       "    <tr>\n",
       "      <th>4</th>\n",
       "      <td>11.8</td>\n",
       "      <td>11.0</td>\n",
       "      <td>0.8</td>\n",
       "      <td>0.0695</td>\n",
       "      <td>0.05560</td>\n",
       "    </tr>\n",
       "  </tbody>\n",
       "</table>\n",
       "</div>"
      ],
      "text/plain": [
       "   x_n-i+1   x_i  x_n-i+1 - x_i  a_n-i+i  (x_n-i+1 - x_i)(a_n-i+1)\n",
       "0     13.1   9.9            3.2   0.5601                   1.79232\n",
       "1     12.6  10.2            2.4   0.3315                   0.79560\n",
       "2     12.4  10.5            1.9   0.2260                   0.42940\n",
       "3     12.3  10.7            1.6   0.1429                   0.22864\n",
       "4     11.8  11.0            0.8   0.0695                   0.05560"
      ]
     },
     "execution_count": 103,
     "metadata": {},
     "output_type": "execute_result"
    }
   ],
   "source": [
    "tablaResumen = pd.DataFrame({'x_n-i+1': submuestra1,\n",
    "                             'x_i': submuestra2,\n",
    "                             'x_n-i+1 - x_i': diferencias, \n",
    "                             'a_n-i+i': coeficientes,\n",
    "                             '(x_n-i+1 - x_i)(a_n-i+1)': sumandos\n",
    "                             })\n",
    "\n",
    "tablaResumen"
   ]
  },
  {
   "cell_type": "markdown",
   "metadata": {},
   "source": [
    "Se calcula el valor del estadístico experimental, $W_{exp}$:"
   ]
  },
  {
   "cell_type": "code",
   "execution_count": 104,
   "metadata": {},
   "outputs": [
    {
     "data": {
      "text/plain": [
       "0.949"
      ]
     },
     "execution_count": 104,
     "metadata": {},
     "output_type": "execute_result"
    }
   ],
   "source": [
    "Wexp = round(sum(sumandos)**2/((n-1)*np.var(muestra, ddof = 1)), 3) #Con un grado de libertad calcula la cuasivarianza\n",
    "Wexp"
   ]
  },
  {
   "cell_type": "markdown",
   "metadata": {},
   "source": [
    "Si se consulta en la tabla correspondiente, el valor crítico para un nivel de significación del 5 %, $W_{11; 0,05}$, resulta ser:"
   ]
  },
  {
   "cell_type": "code",
   "execution_count": 105,
   "metadata": {},
   "outputs": [],
   "source": [
    "Wc = 0.85"
   ]
  },
  {
   "cell_type": "markdown",
   "metadata": {},
   "source": [
    "Dado que $W_{exp} > W_{n, \\alpha}$, no se cae en la región crítica y se puede asumir la hipótesis de que la muestra tiene una estructura normal:"
   ]
  },
  {
   "cell_type": "code",
   "execution_count": 106,
   "metadata": {},
   "outputs": [
    {
     "data": {
      "text/plain": [
       "True"
      ]
     },
     "execution_count": 106,
     "metadata": {},
     "output_type": "execute_result"
    }
   ],
   "source": [
    "Wexp > Wc"
   ]
  },
  {
   "cell_type": "markdown",
   "metadata": {},
   "source": [
    "Por otro lado, Python dispone de una manera automática de realizar el contraste de Shapiro-Wilk:"
   ]
  },
  {
   "cell_type": "code",
   "execution_count": 107,
   "metadata": {},
   "outputs": [
    {
     "name": "stdout",
     "output_type": "stream",
     "text": [
      "Wexp = 0.950, p-valor = 0.640\n",
      "No se puede rechazar la hipótesis nula, por lo que es probable que la población siga una distribución normal.\n"
     ]
    }
   ],
   "source": [
    "Wexp, p = sh(muestra)\n",
    "\n",
    "print(f'Wexp = {Wexp:.3f}, p-valor = {p:.3f}')\n",
    "\n",
    "if p > alfa: \n",
    "  print('No se puede rechazar la hipótesis nula, por lo que es probable que la población siga una distribución normal.')\n",
    "else:\n",
    "  print('La población no sigue una distribución normal.')"
   ]
  },
  {
   "cell_type": "markdown",
   "metadata": {},
   "source": [
    "# Ejercicio XII.2"
   ]
  },
  {
   "cell_type": "markdown",
   "metadata": {},
   "source": [
    "### Se desea contrastar si la mediana de la población de la cual se ha extraído la siguiente MAS vale 5: 4, 5, 6, 5, 3, 4, 2, 7, 6, 5, 4, 3, 8, 8, 9, 4, 6, 7, 2, 5, 6."
   ]
  },
  {
   "cell_type": "markdown",
   "metadata": {},
   "source": [
    "Se plantea el siguiente contraste T de Wilcoxon:"
   ]
  },
  {
   "cell_type": "markdown",
   "metadata": {},
   "source": [
    "$$\n",
    "\\left\\{\n",
    "  \\begin{array}{ll} \n",
    "    H_{0}: Me = 5 \\\\\n",
    "    H_{1}: Me \\ne 5\n",
    "  \\end{array}\n",
    "\\right.\n",
    "$$"
   ]
  },
  {
   "cell_type": "markdown",
   "metadata": {},
   "source": [
    "Se supone un nivel de significación, $\\alpha$, del 5 %:"
   ]
  },
  {
   "cell_type": "code",
   "execution_count": 108,
   "metadata": {},
   "outputs": [],
   "source": [
    "alfa = 0.05\n",
    "me0 = 5"
   ]
  },
  {
   "cell_type": "markdown",
   "metadata": {},
   "source": [
    "Como es habitual, se define una lista con la muestra y se convierte en una matriz de NumPy:"
   ]
  },
  {
   "cell_type": "code",
   "execution_count": 109,
   "metadata": {},
   "outputs": [
    {
     "data": {
      "text/plain": [
       "array([4, 5, 6, 5, 3, 4, 2, 7, 6, 5, 4, 3, 8, 8, 9, 4, 6, 7, 2, 5, 6])"
      ]
     },
     "execution_count": 109,
     "metadata": {},
     "output_type": "execute_result"
    }
   ],
   "source": [
    "muestra = [4, 5, 6, 5, 3, 4, 2, 7, 6, 5, 4, 3, 8, 8, 9, 4, 6, 7, 2, 5, 6]\n",
    "muestra = np.array(muestra)\n",
    "muestra"
   ]
  },
  {
   "cell_type": "markdown",
   "metadata": {},
   "source": [
    "Si se comprueba el valor de la mediana muestral:"
   ]
  },
  {
   "cell_type": "code",
   "execution_count": 110,
   "metadata": {},
   "outputs": [
    {
     "data": {
      "text/plain": [
       "5.0"
      ]
     },
     "execution_count": 110,
     "metadata": {},
     "output_type": "execute_result"
    }
   ],
   "source": [
    "mediana = np.median(muestra)\n",
    "mediana"
   ]
  },
  {
   "cell_type": "markdown",
   "metadata": {},
   "source": [
    "Se observa que coincide con el valor utilizado como hipótesis nula, $Me_{0} = 5$."
   ]
  },
  {
   "cell_type": "markdown",
   "metadata": {},
   "source": [
    "En primer lugar, se calculan las diferencias entre cada elemento de la muestra y la mediana hipotética, $x_{i}-Me_{0}$:"
   ]
  },
  {
   "cell_type": "code",
   "execution_count": 111,
   "metadata": {},
   "outputs": [
    {
     "data": {
      "text/plain": [
       "array([-1,  0,  1,  0, -2, -1, -3,  2,  1,  0, -1, -2,  3,  3,  4, -1,  1,\n",
       "        2, -3,  0,  1])"
      ]
     },
     "execution_count": 111,
     "metadata": {},
     "output_type": "execute_result"
    }
   ],
   "source": [
    "diferencias = muestra - me0\n",
    "diferencias"
   ]
  },
  {
   "cell_type": "markdown",
   "metadata": {},
   "source": [
    "A continuación, se eliminan las diferencias nulas, se obtiene el valor absoluto de las restantes y se las ordena en orden ascendente:"
   ]
  },
  {
   "cell_type": "code",
   "execution_count": 112,
   "metadata": {},
   "outputs": [
    {
     "data": {
      "text/plain": [
       "array([1, 1, 1, 1, 1, 1, 1, 1, 2, 2, 2, 2, 3, 3, 3, 3, 4])"
      ]
     },
     "execution_count": 112,
     "metadata": {},
     "output_type": "execute_result"
    }
   ],
   "source": [
    "absolutas = np.sort(abs(diferencias[diferencias != 0]))\n",
    "absolutas"
   ]
  },
  {
   "cell_type": "markdown",
   "metadata": {},
   "source": [
    "Se determinan los valores únicos para, a partir de ellos, estimar cuales son los rangos promedio que les corresponden:"
   ]
  },
  {
   "cell_type": "code",
   "execution_count": 113,
   "metadata": {
    "scrolled": true
   },
   "outputs": [
    {
     "data": {
      "text/plain": [
       "array([1, 2, 3, 4])"
      ]
     },
     "execution_count": 113,
     "metadata": {},
     "output_type": "execute_result"
    }
   ],
   "source": [
    "unicos = np.unique(absolutas)\n",
    "unicos"
   ]
  },
  {
   "cell_type": "code",
   "execution_count": 114,
   "metadata": {},
   "outputs": [
    {
     "data": {
      "text/plain": [
       "array([ 4.5, 10.5, 14.5, 17. ])"
      ]
     },
     "execution_count": 114,
     "metadata": {},
     "output_type": "execute_result"
    }
   ],
   "source": [
    "\"\"\"\n",
    "Calcula la media de los índices -en Python empiezan en 0, de ahí el '+ 1'- que ocupan los valores de 'absolutas' para\n",
    "cada valor en 'unicos' -media de los índices de los unos, de 1 a 8; de los doses, de 9 a 12; etc.-\n",
    "\"\"\"\n",
    "\n",
    "rangos = np.array([np.mean(np.array(np.where(absolutas == valor)) + 1) for valor in unicos])\n",
    "rangos"
   ]
  },
  {
   "cell_type": "markdown",
   "metadata": {},
   "source": [
    "Se define la siguiente función, que permite calcular los sumatorios de los rangos promedio en función del signo del valor de las diferencias:"
   ]
  },
  {
   "cell_type": "code",
   "execution_count": 115,
   "metadata": {},
   "outputs": [],
   "source": [
    "def estadistico(diferencias, rangos): #Matriz con diferencias positivas o negativas, nunca ambas\n",
    "    \n",
    "    lista = []\n",
    "    \n",
    "    for diferencia in diferencias:\n",
    "        for rango in rangos:\n",
    "            if abs(diferencia) == np.array(np.where(rangos == rango)) + 1: lista.append(rango)\n",
    "                \n",
    "    \"\"\"\n",
    "    Cada diferencia -en valor absoluto- sirve de índice para el rango: si es un 1, se añade un 4,5 a la lista; \n",
    "    si es un 2, un 10,5, etc.\n",
    "    \"\"\"\n",
    "    \n",
    "    sumatorio = np.sum(np.array(lista))\n",
    "    \n",
    "    return sumatorio"
   ]
  },
  {
   "cell_type": "markdown",
   "metadata": {},
   "source": [
    "Si se parte la matriz muestral en dos submatrices, una con los valores negativos y otra con los positivos, se pueden obtener los dos posibles valores, $T^{-}$ y $T^{+}$, del estadístico experimental, $T_{exp}$:"
   ]
  },
  {
   "cell_type": "code",
   "execution_count": 116,
   "metadata": {},
   "outputs": [
    {
     "data": {
      "text/plain": [
       "68.0"
      ]
     },
     "execution_count": 116,
     "metadata": {},
     "output_type": "execute_result"
    }
   ],
   "source": [
    "diferenciasNeg = diferencias[diferencias < 0]\n",
    "\n",
    "Tneg = estadistico(diferenciasNeg, rangos)\n",
    "Tneg"
   ]
  },
  {
   "cell_type": "code",
   "execution_count": 117,
   "metadata": {},
   "outputs": [
    {
     "data": {
      "text/plain": [
       "85.0"
      ]
     },
     "execution_count": 117,
     "metadata": {},
     "output_type": "execute_result"
    }
   ],
   "source": [
    "diferenciasPos = diferencias[diferencias > 0]\n",
    "\n",
    "Tpos = estadistico(diferenciasPos, rangos)\n",
    "Tpos"
   ]
  },
  {
   "cell_type": "markdown",
   "metadata": {},
   "source": [
    "En principio, el valor de $T_{exp}$ sería el mínimo entre $T^{-}$ y $T^{+}$:"
   ]
  },
  {
   "cell_type": "code",
   "execution_count": 118,
   "metadata": {},
   "outputs": [
    {
     "data": {
      "text/plain": [
       "68.0"
      ]
     },
     "execution_count": 118,
     "metadata": {},
     "output_type": "execute_result"
    }
   ],
   "source": [
    "Texp = min(Tneg, Tpos)\n",
    "Texp"
   ]
  },
  {
   "cell_type": "markdown",
   "metadata": {},
   "source": [
    "Finalmente, se calcula el número de diferencias no nulas, $n'$:"
   ]
  },
  {
   "cell_type": "code",
   "execution_count": 119,
   "metadata": {},
   "outputs": [
    {
     "data": {
      "text/plain": [
       "17"
      ]
     },
     "execution_count": 119,
     "metadata": {},
     "output_type": "execute_result"
    }
   ],
   "source": [
    "n = absolutas.size\n",
    "n"
   ]
  },
  {
   "cell_type": "markdown",
   "metadata": {},
   "source": [
    "Si se consulta en la tabla correspondiente, el valor crítico para un nivel de significación del 5 %, $T_{17; 0,05}$, resulta ser:"
   ]
  },
  {
   "cell_type": "code",
   "execution_count": 120,
   "metadata": {},
   "outputs": [],
   "source": [
    "Tc = 41"
   ]
  },
  {
   "cell_type": "markdown",
   "metadata": {},
   "source": [
    "Dado que $T_{exp} > T_{c}$, no se cae en la región crítica y por tanto no se puede rechazar $H_{0}$:"
   ]
  },
  {
   "cell_type": "code",
   "execution_count": 121,
   "metadata": {},
   "outputs": [
    {
     "data": {
      "text/plain": [
       "True"
      ]
     },
     "execution_count": 121,
     "metadata": {},
     "output_type": "execute_result"
    }
   ],
   "source": [
    "Texp > Tc"
   ]
  },
  {
   "cell_type": "markdown",
   "metadata": {},
   "source": [
    "Python dispone de una manera automatizada de realizar el contraste T de Wilcoxon:"
   ]
  },
  {
   "cell_type": "code",
   "execution_count": 122,
   "metadata": {},
   "outputs": [
    {
     "name": "stdout",
     "output_type": "stream",
     "text": [
      "Texp = 68.0, p-valor = 0.683\n",
      "No se puede rechazar la hipótesis nula.\n"
     ]
    }
   ],
   "source": [
    "Texp, p = wil(muestra - me0, correction = False, mode = 'approx')\n",
    "\n",
    "print(f'Texp = {Texp:.1f}, p-valor = {p:.3f}')\n",
    "\n",
    "if p > alfa: \n",
    "  print('No se puede rechazar la hipótesis nula.')\n",
    "else:\n",
    "  print('Se acepta la hipótesis alternativa.')"
   ]
  }
 ],
 "metadata": {
  "kernelspec": {
   "display_name": "Python 3 (ipykernel)",
   "language": "python",
   "name": "python3"
  },
  "language_info": {
   "codemirror_mode": {
    "name": "ipython",
    "version": 3
   },
   "file_extension": ".py",
   "mimetype": "text/x-python",
   "name": "python",
   "nbconvert_exporter": "python",
   "pygments_lexer": "ipython3",
   "version": "3.9.12"
  }
 },
 "nbformat": 4,
 "nbformat_minor": 4
}
