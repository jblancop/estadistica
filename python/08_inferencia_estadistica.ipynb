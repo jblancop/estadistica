{
 "cells": [
  {
   "cell_type": "code",
   "execution_count": 6,
   "metadata": {},
   "outputs": [],
   "source": [
    "import numpy as np"
   ]
  },
  {
   "cell_type": "markdown",
   "metadata": {},
   "source": [
    "# Ejercicio VIII.2"
   ]
  },
  {
   "cell_type": "markdown",
   "metadata": {},
   "source": [
    "### Se quiere realizar un estudio sobre el tiempo semanal dedicado a la lectura en una población de 1.000 habitantes, caracterizada por la siguiente tabla, en la que $i$ son los grupos de edad, $f{i}$ la frecuencia relativa de cada grupo y $\\sigma{i}$ su desviación típica."
   ]
  },
  {
   "cell_type": "markdown",
   "metadata": {},
   "source": [
    "$i$ | Edades | $f{i}$ | $\\sigma{i}$\n",
    "----| ------ | ------ | -----------\n",
    "1   | < 18   | 0,25   | 0,10\n",
    "2   | 19 - 35| 0,40   | 0,30\n",
    "3   | 36 - 55| 0,20   | 0,50\n",
    "4   | > 55   | 0,15   | 0,10"
   ]
  },
  {
   "cell_type": "markdown",
   "metadata": {},
   "source": [
    "Se ha de realizar un muestreo estratificado mediante afijación óptima para un tamaño muestral de 100; la asignación de unidades por grupo de edad es la siguiente:"
   ]
  },
  {
   "cell_type": "code",
   "execution_count": 48,
   "metadata": {},
   "outputs": [
    {
     "name": "stdout",
     "output_type": "stream",
     "text": [
      "Grupo 1: 10 individuos\n",
      "Grupo 2: 46 individuos\n",
      "Grupo 3: 38 individuos\n",
      "Grupo 4: 6 individuos\n"
     ]
    }
   ],
   "source": [
    "n = 100\n",
    "\n",
    "f = np.array([0.25, 0.4, 0.2, 0.15])\n",
    "s = np.array([0.1, 0.3, 0.5, 0.1])\n",
    "\n",
    "i = 0\n",
    "\n",
    "for fi in f:\n",
    "    for si in s:\n",
    "        print(\"Grupo \" + str(i + 1) + \": \" + str(int(round(n * ((f[i] * s[i])/sum(f * s)), 0))) + \" individuos\")\n",
    "        i += 1\n",
    "        break"
   ]
  }
 ],
 "metadata": {
  "kernelspec": {
   "display_name": "Python 3",
   "language": "python",
   "name": "python3"
  },
  "language_info": {
   "codemirror_mode": {
    "name": "ipython",
    "version": 3
   },
   "file_extension": ".py",
   "mimetype": "text/x-python",
   "name": "python",
   "nbconvert_exporter": "python",
   "pygments_lexer": "ipython3",
   "version": "3.8.5"
  }
 },
 "nbformat": 4,
 "nbformat_minor": 4
}
