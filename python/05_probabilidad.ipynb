{
 "cells": [
  {
   "cell_type": "markdown",
   "metadata": {},
   "source": [
    "# Ejercicio V.3"
   ]
  },
  {
   "cell_type": "markdown",
   "metadata": {},
   "source": [
    "### Para un sistema de alarma, la probabilidad de que funcione en caso de peligro es de 0,95, mientras que la de que funcione por error -sin que haya peligro- es de 0,03. Si la probabilidad de que haya peligro es de 0,1:"
   ]
  },
  {
   "cell_type": "markdown",
   "metadata": {},
   "source": [
    "### a) *Calcular el porcentaje de veces en que, habiendo funcionado la alarma, no hubiese realmente peligro*"
   ]
  },
  {
   "cell_type": "markdown",
   "metadata": {},
   "source": [
    "Se define un **suceso** $P$, que haya peligro, y su **complementario**, $\\bar{P}$, que no lo haya, cuyas **probabilidades** son, respectivamente, $P(P)$ y $P(\\bar{P})$:"
   ]
  },
  {
   "cell_type": "code",
   "execution_count": 1,
   "metadata": {},
   "outputs": [
    {
     "data": {
      "text/plain": [
       "0.9"
      ]
     },
     "execution_count": 1,
     "metadata": {},
     "output_type": "execute_result"
    }
   ],
   "source": [
    "pP = 0.1\n",
    "\n",
    "pNoP = 1 - pP\n",
    "pNoP"
   ]
  },
  {
   "cell_type": "markdown",
   "metadata": {},
   "source": [
    "Por otro lado, también se puede definir $F$, que la alarma funcione, y $\\bar{F}$, que no funcione, de manera que se tienen las siguientes **probabilidades condicionadas**:"
   ]
  },
  {
   "cell_type": "markdown",
   "metadata": {},
   "source": [
    "$P(F|P)$ y $P(\\bar{F}|P)$:"
   ]
  },
  {
   "cell_type": "code",
   "execution_count": 5,
   "metadata": {},
   "outputs": [
    {
     "data": {
      "text/plain": [
       "0.05"
      ]
     },
     "execution_count": 5,
     "metadata": {},
     "output_type": "execute_result"
    }
   ],
   "source": [
    "pFdadoP = 0.95\n",
    "\n",
    "pNoFdadoP = round(1 - pFdadoP, 2)\n",
    "pNoFdadoP"
   ]
  },
  {
   "cell_type": "markdown",
   "metadata": {},
   "source": [
    "Y $P(F|\\bar{P})$ y $P(\\bar{F}|\\bar{P})$:"
   ]
  },
  {
   "cell_type": "code",
   "execution_count": 6,
   "metadata": {},
   "outputs": [
    {
     "data": {
      "text/plain": [
       "0.97"
      ]
     },
     "execution_count": 6,
     "metadata": {},
     "output_type": "execute_result"
    }
   ],
   "source": [
    "pFdadoNoP = 0.03\n",
    "\n",
    "pNoFdadoNoP = round(1 - pFdadoNoP, 2)\n",
    "pNoFdadoNoP"
   ]
  },
  {
   "cell_type": "markdown",
   "metadata": {},
   "source": [
    "Lo que se pide es otra probabilidad condicionada, que se puede determinar a través del **teorema de Bayes** y de la **probabilidad total**; para ello, se definen las siguientes funciones:"
   ]
  },
  {
   "cell_type": "code",
   "execution_count": 7,
   "metadata": {},
   "outputs": [],
   "source": [
    "def total(p1, p2, p3, p4):\n",
    "    return(p1 * p2 + p3 * p4)\n",
    "\n",
    "def bayes(p3, p4, total):\n",
    "    return((p3 * p4)/total)"
   ]
  },
  {
   "cell_type": "markdown",
   "metadata": {},
   "source": [
    "Así, $P(\\bar{P}|F)$, en tanto por ciento, resulta ser:"
   ]
  },
  {
   "cell_type": "code",
   "execution_count": 8,
   "metadata": {},
   "outputs": [
    {
     "data": {
      "text/plain": [
       "22.13"
      ]
     },
     "execution_count": 8,
     "metadata": {},
     "output_type": "execute_result"
    }
   ],
   "source": [
    "pNoPdadoF = bayes(pFdadoNoP, pNoP, total(pFdadoP, pP, pFdadoNoP, pNoP))\n",
    "\n",
    "pNoPdadoF_porc = round(pNoPdadoF * 100, 2)\n",
    "pNoPdadoF_porc"
   ]
  },
  {
   "cell_type": "markdown",
   "metadata": {},
   "source": [
    "### b) *Hallar la probabilidad de que haya peligro y la alarma no funcione*"
   ]
  },
  {
   "cell_type": "markdown",
   "metadata": {},
   "source": [
    "Se trata de la probabilidad de la intersección entre ambos sucesos, $P(P\\cap\\bar{F})$, que por la definición de probabilidad condicionada resulta ser -en tanto por ciento-:"
   ]
  },
  {
   "cell_type": "code",
   "execution_count": 9,
   "metadata": {},
   "outputs": [
    {
     "data": {
      "text/plain": [
       "0.5"
      ]
     },
     "execution_count": 9,
     "metadata": {},
     "output_type": "execute_result"
    }
   ],
   "source": [
    "pPyNoF = pNoFdadoP * pP\n",
    "\n",
    "pPyNoF_porc = round(pPyNoF * 100, 2)\n",
    "pPyNoF_porc"
   ]
  },
  {
   "cell_type": "markdown",
   "metadata": {},
   "source": [
    "### c) *Calcular la probabilidad de que, no habiendo funcionado la alarma, haya peligro*"
   ]
  },
  {
   "cell_type": "markdown",
   "metadata": {},
   "source": [
    "Es decir, $P(P|\\bar{F})$; de nuevo, por el teorema de Bayes y en tanto por ciento:"
   ]
  },
  {
   "cell_type": "code",
   "execution_count": 10,
   "metadata": {},
   "outputs": [
    {
     "data": {
      "text/plain": [
       "0.57"
      ]
     },
     "execution_count": 10,
     "metadata": {},
     "output_type": "execute_result"
    }
   ],
   "source": [
    "pPdadoNoF = bayes(pNoFdadoP, pP, 1 - total(pFdadoP, pP, pFdadoNoP, pNoP))\n",
    "\n",
    "pPdadoNoF_porc = round(pPdadoNoF * 100, 2)\n",
    "pPdadoNoF_porc"
   ]
  }
 ],
 "metadata": {
  "kernelspec": {
   "display_name": "Python 3",
   "language": "python",
   "name": "python3"
  },
  "language_info": {
   "codemirror_mode": {
    "name": "ipython",
    "version": 3
   },
   "file_extension": ".py",
   "mimetype": "text/x-python",
   "name": "python",
   "nbconvert_exporter": "python",
   "pygments_lexer": "ipython3",
   "version": "3.8.5"
  }
 },
 "nbformat": 4,
 "nbformat_minor": 4
}
