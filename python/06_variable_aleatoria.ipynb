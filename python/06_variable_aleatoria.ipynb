{
 "cells": [
  {
   "cell_type": "code",
   "execution_count": 1,
   "metadata": {},
   "outputs": [],
   "source": [
    "import matplotlib.pyplot as plt\n",
    "import numpy as np\n",
    "import sympy as sp"
   ]
  },
  {
   "cell_type": "markdown",
   "metadata": {},
   "source": [
    "# Ejercicio VI.1"
   ]
  },
  {
   "cell_type": "markdown",
   "metadata": {},
   "source": [
    "### La función de distribución asociada a la producción de una máquina, en miles de unidades, es la siguiente:"
   ]
  },
  {
   "cell_type": "markdown",
   "metadata": {},
   "source": [
    "$$\n",
    "F(x)= \n",
    "\\left\\{ \n",
    "  \\begin{array}{lcc}\n",
    "       0 &   si  & x < 0 \\\\\n",
    "    \\\\ x\\cdot(2-x) &  si & 0 \\leq x \\leq 1 \\\\\n",
    "    \\\\ 1 &  si  & x > 1\n",
    "  \\end{array}\n",
    "\\right.\n",
    "$$"
   ]
  },
  {
   "cell_type": "markdown",
   "metadata": {},
   "source": [
    "### a) *Representarla gráficamente*"
   ]
  },
  {
   "cell_type": "code",
   "execution_count": 2,
   "metadata": {},
   "outputs": [
    {
     "data": {
      "image/png": "[encoded data removed]",
      "text/plain": [
       "<Figure size 432x288 with 1 Axes>"
      ]
     },
     "metadata": {
      "needs_background": "light"
     },
     "output_type": "display_data"
    }
   ],
   "source": [
    "x = np.arange(0.0, 1.0, 0.001) #Secuencia de 1.000 puntos entre 0 y 1\n",
    "\n",
    "plt.plot(x, 2*x-x**2, \"k-\")  #F(x) entre 0 y 1\n",
    "\n",
    "plt.hlines(y = 0, xmin = -1, xmax = 0, colors = \"black\", linestyles = \"solid\")  #F(x) para valores menores de 0\n",
    "plt.hlines(y = 1, xmin = 1, xmax = 2, colors = \"black\", linestyles = \"solid\") #F(x) para valores mayores de 1\n",
    "\n",
    "plt.plot(0, 0, \"ko\") #Puntos de transición\n",
    "plt.text(-0.075, -0.15, \"(0, 0)\")\n",
    "plt.plot(1, 1, \"ko\")\n",
    "plt.text(0.925, 1.1, \"(1, 1)\")\n",
    "\n",
    "plt.xlim(-0.5, 1.5) #Ampliación de los ejes\n",
    "plt.ylim(-0.25, 1.25)\n",
    "\n",
    "plt.title(\"Función de distribución\", fontsize = 18)\n",
    "plt.xlabel(\"X\", fontsize = 14)\n",
    "plt.ylabel(\"F(x)\", fontsize = 14)\n",
    "\n",
    "plt.show()"
   ]
  },
  {
   "cell_type": "markdown",
   "metadata": {},
   "source": [
    "### b) *Calcular y representar la función de densidad*"
   ]
  },
  {
   "cell_type": "markdown",
   "metadata": {},
   "source": [
    "Por derivación:"
   ]
  },
  {
   "cell_type": "code",
   "execution_count": 3,
   "metadata": {},
   "outputs": [],
   "source": [
    "x = sp.Symbol(\"x\")\n",
    "\n",
    "Fx0 = 0 #F(x) para valores menores de 0\n",
    "Fx01 = 2*x-x**2 #F(x) entre 0 y 1\n",
    "Fx1 = 1 #F(x) para valores mayores de 1"
   ]
  },
  {
   "cell_type": "code",
   "execution_count": 4,
   "metadata": {},
   "outputs": [
    {
     "data": {
      "text/latex": [
       "$\\displaystyle 0$"
      ],
      "text/plain": [
       "0"
      ]
     },
     "execution_count": 4,
     "metadata": {},
     "output_type": "execute_result"
    }
   ],
   "source": [
    "fx0 = sp.diff(Fx0)\n",
    "fx0"
   ]
  },
  {
   "cell_type": "code",
   "execution_count": 5,
   "metadata": {},
   "outputs": [
    {
     "data": {
      "text/latex": [
       "$\\displaystyle 2 - 2 x$"
      ],
      "text/plain": [
       "2 - 2*x"
      ]
     },
     "execution_count": 5,
     "metadata": {},
     "output_type": "execute_result"
    }
   ],
   "source": [
    "fx01 = sp.diff(Fx01)\n",
    "fx01"
   ]
  },
  {
   "cell_type": "code",
   "execution_count": 6,
   "metadata": {},
   "outputs": [
    {
     "data": {
      "text/latex": [
       "$\\displaystyle 0$"
      ],
      "text/plain": [
       "0"
      ]
     },
     "execution_count": 6,
     "metadata": {},
     "output_type": "execute_result"
    }
   ],
   "source": [
    "fx1 = sp.diff(Fx1)\n",
    "fx1"
   ]
  },
  {
   "cell_type": "markdown",
   "metadata": {},
   "source": [
    "Por tanto:"
   ]
  },
  {
   "cell_type": "markdown",
   "metadata": {},
   "source": [
    "$$\n",
    "f(x)= \n",
    "\\left\\{ \n",
    "  \\begin{array}{lcc}\n",
    "       2-2\\cdot x &  si & 0 \\leq x \\leq 1 \\\\\n",
    "    \\\\ 0 &  si & resto\n",
    "  \\end{array}\n",
    "\\right.\n",
    "$$"
   ]
  },
  {
   "cell_type": "markdown",
   "metadata": {},
   "source": [
    "Gráficamente:"
   ]
  },
  {
   "cell_type": "code",
   "execution_count": 7,
   "metadata": {},
   "outputs": [
    {
     "data": {
      "image/png": "[encoded data removed]",
      "text/plain": [
       "<Figure size 432x288 with 1 Axes>"
      ]
     },
     "metadata": {
      "needs_background": "light"
     },
     "output_type": "display_data"
    }
   ],
   "source": [
    "x = np.arange(0.0, 1.0, 0.001) #Secuencia de 1.000 puntos entre 0 y 1\n",
    "\n",
    "plt.plot(x,  2-2*x, \"k-\")  #f(x) entre 0 y 1\n",
    "\n",
    "plt.hlines(y = 0, xmin = -1, xmax = 0, colors = \"black\", linestyles = \"solid\")  #f(x) para valores menores de 0\n",
    "plt.hlines(y = 0, xmin = 1, xmax = 2, colors = \"black\", linestyles = \"solid\") #f(x) para valores mayores de 1\n",
    "\n",
    "plt.plot(0, 0, \"ko\", mfc = \"none\") #Puntos de transición\n",
    "plt.text(-0.075, -0.25, \"(0, 0)\")\n",
    "plt.plot(0, 2, \"ko\")\n",
    "plt.text(-0.075, 2.15, \"(0, 2)\")\n",
    "plt.plot(1, 0, \"ko\")\n",
    "plt.text(0.925, -0.25, \"(1, 1)\")\n",
    "\n",
    "plt.xlim(-0.5, 1.5) #Ampliación de los ejes\n",
    "plt.ylim(-0.5, 2.5)\n",
    "\n",
    "plt.title(\"Función de densidad\", fontsize = 18)\n",
    "plt.xlabel(\"X\", fontsize = 14)\n",
    "plt.ylabel(\"f(x)\", fontsize = 14)\n",
    "\n",
    "plt.show()"
   ]
  },
  {
   "cell_type": "markdown",
   "metadata": {},
   "source": [
    "### c) *Obtener la media y la varianza de la producción*"
   ]
  },
  {
   "cell_type": "markdown",
   "metadata": {},
   "source": [
    "La media viene dada por la esperanza matemática:"
   ]
  },
  {
   "cell_type": "code",
   "execution_count": 8,
   "metadata": {},
   "outputs": [
    {
     "data": {
      "text/latex": [
       "$\\displaystyle 333.33$"
      ],
      "text/plain": [
       "333.33"
      ]
     },
     "execution_count": 8,
     "metadata": {},
     "output_type": "execute_result"
    }
   ],
   "source": [
    "x = sp.Symbol(\"x\")\n",
    "\n",
    "E = sp.integrate(x * fx01, (x, 0, 1))\n",
    "\n",
    "media = round(E * 1000, 2)\n",
    "media"
   ]
  },
  {
   "cell_type": "markdown",
   "metadata": {},
   "source": [
    "La varianza se puede calcular a partir de la esperanza:"
   ]
  },
  {
   "cell_type": "code",
   "execution_count": 9,
   "metadata": {},
   "outputs": [
    {
     "data": {
      "text/latex": [
       "$\\displaystyle 55.56$"
      ],
      "text/plain": [
       "55.56"
      ]
     },
     "execution_count": 9,
     "metadata": {},
     "output_type": "execute_result"
    }
   ],
   "source": [
    "EX2 = sp.integrate(x**2 * fx01, (x, 0, 1))\n",
    "\n",
    "var = round((EX2 - E**2) * 1000, 2)\n",
    "var"
   ]
  },
  {
   "cell_type": "markdown",
   "metadata": {},
   "source": [
    "### d) *¿Cuál es la probabilidad de que la producción sea inferior a 500 unidades? ¿Y superior a 250?*"
   ]
  },
  {
   "cell_type": "markdown",
   "metadata": {},
   "source": [
    "A partir de la función de densidad:"
   ]
  },
  {
   "cell_type": "code",
   "execution_count": 11,
   "metadata": {},
   "outputs": [
    {
     "data": {
      "text/latex": [
       "$\\displaystyle 0.75$"
      ],
      "text/plain": [
       "0.75"
      ]
     },
     "execution_count": 11,
     "metadata": {},
     "output_type": "execute_result"
    }
   ],
   "source": [
    "pXmenor500 = sp.integrate(fx01, (x, 0, 0.5))\n",
    "\n",
    "pXmenor500Red = round(pXmenor500, 2)\n",
    "pXmenor500Red #En realidad, menor o igual que"
   ]
  },
  {
   "cell_type": "code",
   "execution_count": 12,
   "metadata": {},
   "outputs": [
    {
     "data": {
      "text/latex": [
       "$\\displaystyle 0.56$"
      ],
      "text/plain": [
       "0.56"
      ]
     },
     "execution_count": 12,
     "metadata": {},
     "output_type": "execute_result"
    }
   ],
   "source": [
    "pXmayor250 = 1 - sp.integrate(fx01, (x, 0, 0.25))\n",
    "\n",
    "pXmayor250Red = round(pXmayor250, 2)\n",
    "pXmayor250Red"
   ]
  }
 ],
 "metadata": {
  "kernelspec": {
   "display_name": "Python 3 (ipykernel)",
   "language": "python",
   "name": "python3"
  },
  "language_info": {
   "codemirror_mode": {
    "name": "ipython",
    "version": 3
   },
   "file_extension": ".py",
   "mimetype": "text/x-python",
   "name": "python",
   "nbconvert_exporter": "python",
   "pygments_lexer": "ipython3",
   "version": "3.9.12"
  }
 },
 "nbformat": 4,
 "nbformat_minor": 4
}
