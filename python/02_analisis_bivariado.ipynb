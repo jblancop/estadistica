{
 "cells": [
  {
   "cell_type": "code",
   "execution_count": 77,
   "metadata": {},
   "outputs": [],
   "source": [
    "import numpy as np\n",
    "import pandas as pd\n",
    "import itertools as it\n",
    "import math as mt"
   ]
  },
  {
   "cell_type": "markdown",
   "metadata": {},
   "source": [
    "# Ejercicio II.1"
   ]
  },
  {
   "cell_type": "markdown",
   "metadata": {},
   "source": [
    "### Se ha clasificado el peso de los huevos, $Y$, de una especie de pez en función del peso de la madre, $X$, como refleja la tabla adjunta, y se pide estimar una serie de características de la distribución."
   ]
  },
  {
   "cell_type": "markdown",
   "metadata": {},
   "source": [
    "$X$/$Y$    | [25, 27) | [27, 29) | [29, 31) | [31, 33)\n",
    "---------- | -------- | -------- | -------- | --------\n",
    "**[500, 550)** | 15       | 11       | 18       | 0\n",
    "**[550, 600)** | 12       | 14       | 0        | 12\n",
    "**[600, 650)** | 0        | 3        | 7        | 18"
   ]
  },
  {
   "cell_type": "markdown",
   "metadata": {},
   "source": [
    "En primer lugar, se codifica la tabla bidimensional del enunciado; se definen sendas *listas* con los intervalos en que se han agrupado ambas variables, $X$ e $Y$, y se indican las **frecuencias absolutas** $n_{ij}$ de cada **par de valores** $(x_{i}, y_{j})$:"
   ]
  },
  {
   "cell_type": "code",
   "execution_count": 78,
   "metadata": {},
   "outputs": [
    {
     "data": {
      "text/html": [
       "<div>\n",
       "<style scoped>\n",
       "    .dataframe tbody tr th:only-of-type {\n",
       "        vertical-align: middle;\n",
       "    }\n",
       "\n",
       "    .dataframe tbody tr th {\n",
       "        vertical-align: top;\n",
       "    }\n",
       "\n",
       "    .dataframe thead th {\n",
       "        text-align: right;\n",
       "    }\n",
       "</style>\n",
       "<table border=\"1\" class=\"dataframe\">\n",
       "  <thead>\n",
       "    <tr style=\"text-align: right;\">\n",
       "      <th>Y</th>\n",
       "      <th>[25, 27)</th>\n",
       "      <th>[27, 29)</th>\n",
       "      <th>[29, 31)</th>\n",
       "      <th>[31, 33)</th>\n",
       "    </tr>\n",
       "    <tr>\n",
       "      <th>X</th>\n",
       "      <th></th>\n",
       "      <th></th>\n",
       "      <th></th>\n",
       "      <th></th>\n",
       "    </tr>\n",
       "  </thead>\n",
       "  <tbody>\n",
       "    <tr>\n",
       "      <th>[500, 550)</th>\n",
       "      <td>15</td>\n",
       "      <td>11</td>\n",
       "      <td>18</td>\n",
       "      <td>0</td>\n",
       "    </tr>\n",
       "    <tr>\n",
       "      <th>[550, 600)</th>\n",
       "      <td>12</td>\n",
       "      <td>14</td>\n",
       "      <td>0</td>\n",
       "      <td>12</td>\n",
       "    </tr>\n",
       "    <tr>\n",
       "      <th>[600, 650)</th>\n",
       "      <td>0</td>\n",
       "      <td>3</td>\n",
       "      <td>7</td>\n",
       "      <td>18</td>\n",
       "    </tr>\n",
       "  </tbody>\n",
       "</table>\n",
       "</div>"
      ],
      "text/plain": [
       "Y           [25, 27)  [27, 29)  [29, 31)  [31, 33)\n",
       "X                                                 \n",
       "[500, 550)        15        11        18         0\n",
       "[550, 600)        12        14         0        12\n",
       "[600, 650)         0         3         7        18"
      ]
     },
     "execution_count": 78,
     "metadata": {},
     "output_type": "execute_result"
    }
   ],
   "source": [
    "valores = [15, 11, 18, 0, 12, 14, 0, 12, 0, 3, 7, 18]\n",
    "\n",
    "Y = [\"[25, 27)\", \"[27, 29)\", \"[29, 31)\", \"[31, 33)\"] * 3\n",
    "Y = np.repeat(Y, valores, axis = 0)\n",
    "\n",
    "X = [\"[500, 550)\"] * 4 + [\"[550, 600)\"] * 4 + [\"[600, 650)\"] * 4 \n",
    "X = np.repeat(X, valores, axis = 0)\n",
    "\n",
    "tabla2D = pd.crosstab(index = X, columns = Y, rownames = ['X'], colnames = ['Y'])\n",
    "tabla2D"
   ]
  },
  {
   "cell_type": "markdown",
   "metadata": {},
   "source": [
    "### a) *Distribución del peso del huevo*"
   ]
  },
  {
   "cell_type": "markdown",
   "metadata": {},
   "source": [
    "Equivale a calcular la **distribución marginal** de $Y$; es decir, sus **frecuencias absolutas marginales** $n_{.j}$ :"
   ]
  },
  {
   "cell_type": "code",
   "execution_count": 79,
   "metadata": {},
   "outputs": [
    {
     "data": {
      "text/plain": [
       "Y\n",
       "[25, 27)    27\n",
       "[27, 29)    28\n",
       "[29, 31)    25\n",
       "[31, 33)    30\n",
       "dtype: int64"
      ]
     },
     "execution_count": 79,
     "metadata": {},
     "output_type": "execute_result"
    }
   ],
   "source": [
    "n·j = tabla2D.sum()\n",
    "n·j"
   ]
  },
  {
   "cell_type": "markdown",
   "metadata": {},
   "source": [
    "Siendo la distribución marginal de $X$:"
   ]
  },
  {
   "cell_type": "code",
   "execution_count": 80,
   "metadata": {},
   "outputs": [
    {
     "data": {
      "text/plain": [
       "X\n",
       "[500, 550)    44\n",
       "[550, 600)    38\n",
       "[600, 650)    28\n",
       "dtype: int64"
      ]
     },
     "execution_count": 80,
     "metadata": {},
     "output_type": "execute_result"
    }
   ],
   "source": [
    "ni· = tabla2D.transpose().sum()\n",
    "ni·"
   ]
  },
  {
   "cell_type": "markdown",
   "metadata": {},
   "source": [
    "El **número total de observaciones**, $n$ o $n_{..}$:"
   ]
  },
  {
   "cell_type": "code",
   "execution_count": 81,
   "metadata": {},
   "outputs": [
    {
     "data": {
      "text/plain": [
       "110"
      ]
     },
     "execution_count": 81,
     "metadata": {},
     "output_type": "execute_result"
    }
   ],
   "source": [
    "n = n·j.sum() #ni·.sum() daría el mismo resultado\n",
    "n"
   ]
  },
  {
   "cell_type": "markdown",
   "metadata": {},
   "source": [
    "En conjunto:"
   ]
  },
  {
   "cell_type": "code",
   "execution_count": 82,
   "metadata": {},
   "outputs": [
    {
     "data": {
      "text/html": [
       "<div>\n",
       "<style scoped>\n",
       "    .dataframe tbody tr th:only-of-type {\n",
       "        vertical-align: middle;\n",
       "    }\n",
       "\n",
       "    .dataframe tbody tr th {\n",
       "        vertical-align: top;\n",
       "    }\n",
       "\n",
       "    .dataframe thead th {\n",
       "        text-align: right;\n",
       "    }\n",
       "</style>\n",
       "<table border=\"1\" class=\"dataframe\">\n",
       "  <thead>\n",
       "    <tr style=\"text-align: right;\">\n",
       "      <th></th>\n",
       "      <th>[25, 27)</th>\n",
       "      <th>[27, 29)</th>\n",
       "      <th>[29, 31)</th>\n",
       "      <th>[31, 33)</th>\n",
       "      <th>Madre</th>\n",
       "    </tr>\n",
       "  </thead>\n",
       "  <tbody>\n",
       "    <tr>\n",
       "      <th>[500, 550)</th>\n",
       "      <td>15</td>\n",
       "      <td>11</td>\n",
       "      <td>18</td>\n",
       "      <td>0</td>\n",
       "      <td>44</td>\n",
       "    </tr>\n",
       "    <tr>\n",
       "      <th>[550, 600)</th>\n",
       "      <td>12</td>\n",
       "      <td>14</td>\n",
       "      <td>0</td>\n",
       "      <td>12</td>\n",
       "      <td>38</td>\n",
       "    </tr>\n",
       "    <tr>\n",
       "      <th>[600, 650)</th>\n",
       "      <td>0</td>\n",
       "      <td>3</td>\n",
       "      <td>7</td>\n",
       "      <td>18</td>\n",
       "      <td>28</td>\n",
       "    </tr>\n",
       "    <tr>\n",
       "      <th>Huevo</th>\n",
       "      <td>27</td>\n",
       "      <td>28</td>\n",
       "      <td>25</td>\n",
       "      <td>30</td>\n",
       "      <td>110</td>\n",
       "    </tr>\n",
       "  </tbody>\n",
       "</table>\n",
       "</div>"
      ],
      "text/plain": [
       "            [25, 27)  [27, 29)  [29, 31)  [31, 33)  Madre\n",
       "[500, 550)        15        11        18         0     44\n",
       "[550, 600)        12        14         0        12     38\n",
       "[600, 650)         0         3         7        18     28\n",
       "Huevo             27        28        25        30    110"
      ]
     },
     "execution_count": 82,
     "metadata": {},
     "output_type": "execute_result"
    }
   ],
   "source": [
    "tablaMarg = pd.crosstab(index = X, columns = Y, margins = True)\n",
    "\n",
    "tablaMarg.index = [\"[500, 550)\", \"[550, 600)\", \"[600, 650)\", \"Huevo\"]\n",
    "tablaMarg.columns = [\"[25, 27)\", \"[27, 29)\", \"[29, 31)\", \"[31, 33)\", \"Madre\"]\n",
    "\n",
    "tablaMarg"
   ]
  },
  {
   "cell_type": "markdown",
   "metadata": {},
   "source": [
    "### b) *Distribución del peso de la madre cuando el huevo tiene el suyo comprendido entre 25 y 27*"
   ]
  },
  {
   "cell_type": "markdown",
   "metadata": {},
   "source": [
    "Se trata de la **distribución condicionada** de $X$ a $Y$ cuando ésta toma valores únicamente en el intervalo [25, 27); es decir, las **frecuencias relativas condicionadas** $f_{i|1}$:"
   ]
  },
  {
   "cell_type": "code",
   "execution_count": 83,
   "metadata": {},
   "outputs": [
    {
     "data": {
      "text/plain": [
       "X\n",
       "[500, 550)    0.56\n",
       "[550, 600)    0.44\n",
       "[600, 650)    0.00\n",
       "Name: [25, 27), dtype: float64"
      ]
     },
     "execution_count": 83,
     "metadata": {},
     "output_type": "execute_result"
    }
   ],
   "source": [
    "fi_1 = tabla2D.transpose().iloc[0]/tablaMarg.iloc[3, 0]\n",
    "\n",
    "fi_1Red = round(fi_1, 2)\n",
    "fi_1Red"
   ]
  },
  {
   "cell_type": "markdown",
   "metadata": {},
   "source": [
    "Si se calcula para todos los intervalos de peso de los huevos, $f_{i|j}$:"
   ]
  },
  {
   "cell_type": "code",
   "execution_count": 84,
   "metadata": {},
   "outputs": [
    {
     "data": {
      "text/html": [
       "<div>\n",
       "<style scoped>\n",
       "    .dataframe tbody tr th:only-of-type {\n",
       "        vertical-align: middle;\n",
       "    }\n",
       "\n",
       "    .dataframe tbody tr th {\n",
       "        vertical-align: top;\n",
       "    }\n",
       "\n",
       "    .dataframe thead th {\n",
       "        text-align: right;\n",
       "    }\n",
       "</style>\n",
       "<table border=\"1\" class=\"dataframe\">\n",
       "  <thead>\n",
       "    <tr style=\"text-align: right;\">\n",
       "      <th></th>\n",
       "      <th>[25, 27)</th>\n",
       "      <th>[27, 29)</th>\n",
       "      <th>[29, 31)</th>\n",
       "      <th>[31, 33)</th>\n",
       "      <th>Madre</th>\n",
       "    </tr>\n",
       "  </thead>\n",
       "  <tbody>\n",
       "    <tr>\n",
       "      <th>[500, 550)</th>\n",
       "      <td>0.56</td>\n",
       "      <td>0.39</td>\n",
       "      <td>0.72</td>\n",
       "      <td>0.0</td>\n",
       "      <td>0.40</td>\n",
       "    </tr>\n",
       "    <tr>\n",
       "      <th>[550, 600)</th>\n",
       "      <td>0.44</td>\n",
       "      <td>0.50</td>\n",
       "      <td>0.00</td>\n",
       "      <td>0.4</td>\n",
       "      <td>0.35</td>\n",
       "    </tr>\n",
       "    <tr>\n",
       "      <th>[600, 650)</th>\n",
       "      <td>0.00</td>\n",
       "      <td>0.11</td>\n",
       "      <td>0.28</td>\n",
       "      <td>0.6</td>\n",
       "      <td>0.25</td>\n",
       "    </tr>\n",
       "    <tr>\n",
       "      <th>Huevo</th>\n",
       "      <td>1.00</td>\n",
       "      <td>1.00</td>\n",
       "      <td>1.00</td>\n",
       "      <td>1.0</td>\n",
       "      <td>1.00</td>\n",
       "    </tr>\n",
       "  </tbody>\n",
       "</table>\n",
       "</div>"
      ],
      "text/plain": [
       "            [25, 27)  [27, 29)  [29, 31)  [31, 33)  Madre\n",
       "[500, 550)      0.56      0.39      0.72       0.0   0.40\n",
       "[550, 600)      0.44      0.50      0.00       0.4   0.35\n",
       "[600, 650)      0.00      0.11      0.28       0.6   0.25\n",
       "Huevo           1.00      1.00      1.00       1.0   1.00"
      ]
     },
     "execution_count": 84,
     "metadata": {},
     "output_type": "execute_result"
    }
   ],
   "source": [
    "fi_j = tablaMarg.div(tablaMarg.loc[\"Huevo\"], axis = 1)\n",
    "\n",
    "fi_jRed = round(fi_j, 2)\n",
    "fi_jRed"
   ]
  },
  {
   "cell_type": "markdown",
   "metadata": {},
   "source": [
    "Y si se quiere calcular la distribución del peso de los huevos condicionada al peso de la madre, $f_{j|i}$:"
   ]
  },
  {
   "cell_type": "code",
   "execution_count": 85,
   "metadata": {},
   "outputs": [
    {
     "data": {
      "text/html": [
       "<div>\n",
       "<style scoped>\n",
       "    .dataframe tbody tr th:only-of-type {\n",
       "        vertical-align: middle;\n",
       "    }\n",
       "\n",
       "    .dataframe tbody tr th {\n",
       "        vertical-align: top;\n",
       "    }\n",
       "\n",
       "    .dataframe thead th {\n",
       "        text-align: right;\n",
       "    }\n",
       "</style>\n",
       "<table border=\"1\" class=\"dataframe\">\n",
       "  <thead>\n",
       "    <tr style=\"text-align: right;\">\n",
       "      <th></th>\n",
       "      <th>[25, 27)</th>\n",
       "      <th>[27, 29)</th>\n",
       "      <th>[29, 31)</th>\n",
       "      <th>[31, 33)</th>\n",
       "      <th>Madre</th>\n",
       "    </tr>\n",
       "  </thead>\n",
       "  <tbody>\n",
       "    <tr>\n",
       "      <th>[500, 550)</th>\n",
       "      <td>0.34</td>\n",
       "      <td>0.25</td>\n",
       "      <td>0.41</td>\n",
       "      <td>0.00</td>\n",
       "      <td>1.0</td>\n",
       "    </tr>\n",
       "    <tr>\n",
       "      <th>[550, 600)</th>\n",
       "      <td>0.32</td>\n",
       "      <td>0.37</td>\n",
       "      <td>0.00</td>\n",
       "      <td>0.32</td>\n",
       "      <td>1.0</td>\n",
       "    </tr>\n",
       "    <tr>\n",
       "      <th>[600, 650)</th>\n",
       "      <td>0.00</td>\n",
       "      <td>0.11</td>\n",
       "      <td>0.25</td>\n",
       "      <td>0.64</td>\n",
       "      <td>1.0</td>\n",
       "    </tr>\n",
       "    <tr>\n",
       "      <th>Huevo</th>\n",
       "      <td>0.25</td>\n",
       "      <td>0.25</td>\n",
       "      <td>0.23</td>\n",
       "      <td>0.27</td>\n",
       "      <td>1.0</td>\n",
       "    </tr>\n",
       "  </tbody>\n",
       "</table>\n",
       "</div>"
      ],
      "text/plain": [
       "            [25, 27)  [27, 29)  [29, 31)  [31, 33)  Madre\n",
       "[500, 550)      0.34      0.25      0.41      0.00    1.0\n",
       "[550, 600)      0.32      0.37      0.00      0.32    1.0\n",
       "[600, 650)      0.00      0.11      0.25      0.64    1.0\n",
       "Huevo           0.25      0.25      0.23      0.27    1.0"
      ]
     },
     "execution_count": 85,
     "metadata": {},
     "output_type": "execute_result"
    }
   ],
   "source": [
    "fj_i = tablaMarg.div(tablaMarg[\"Madre\"], axis = 0) #No hay que usar \"loc\" en este caso\n",
    "\n",
    "fj_iRed = round(fj_i, 2)\n",
    "fj_iRed"
   ]
  },
  {
   "cell_type": "markdown",
   "metadata": {},
   "source": [
    "### c) *Media, mediana y moda del peso de los huevos*"
   ]
  },
  {
   "cell_type": "markdown",
   "metadata": {},
   "source": [
    "En primer lugar, se crea una lista con las **marcas de clase** de $Y$, $y_{j}$:"
   ]
  },
  {
   "cell_type": "code",
   "execution_count": 86,
   "metadata": {},
   "outputs": [
    {
     "data": {
      "text/plain": [
       "[26.0, 28.0, 30.0, 32.0]"
      ]
     },
     "execution_count": 86,
     "metadata": {},
     "output_type": "execute_result"
    }
   ],
   "source": [
    "l1 = 25 #Límite inferior del primer intervalo\n",
    "l2 = 27 #Límite superior del primer intervalo\n",
    "a = l2 - l1 #Amplitud de los intervalos\n",
    "s = 4 #Número de intervalos\n",
    "\n",
    "y1 = (l1 + l2)/2 #Primera marca de clase\n",
    "\n",
    "mc = it.count(start = y1, step = a)\n",
    "yj = [next(mc) for elemento in range(s)]\n",
    "yj"
   ]
  },
  {
   "cell_type": "markdown",
   "metadata": {},
   "source": [
    "Y a partir de él, las frecuencias absolutas marginales de $Y$ y el número total de observaciones, se determina la **media** ($\\bar{y}$):"
   ]
  },
  {
   "cell_type": "code",
   "execution_count": 87,
   "metadata": {},
   "outputs": [
    {
     "data": {
      "text/plain": [
       "29.05"
      ]
     },
     "execution_count": 87,
     "metadata": {},
     "output_type": "execute_result"
    }
   ],
   "source": [
    "media = round(((yj * n·j).sum())/n, 2) \n",
    "media"
   ]
  },
  {
   "cell_type": "markdown",
   "metadata": {},
   "source": [
    "Para determinar la **mediana** ($Me_{y}$), en primer lugar se determina el intervalo de $Y$ cuya **frecuencia relativa acumulada marginal** ($F_{.j}$) es superior a 0,5:"
   ]
  },
  {
   "cell_type": "code",
   "execution_count": 88,
   "metadata": {},
   "outputs": [
    {
     "data": {
      "text/plain": [
       "'[29, 31)'"
      ]
     },
     "execution_count": 88,
     "metadata": {},
     "output_type": "execute_result"
    }
   ],
   "source": [
    "F·j = np.cumsum(n·j/n)\n",
    "\n",
    "intervalos = []\n",
    "\n",
    "for intervalo, frecuencia in F·j.items():\n",
    "    if frecuencia > 0.5:\n",
    "        intervalos.append(intervalo)\n",
    "        \n",
    "intMed = intervalos[0] #La mediana se encuentra en el inmediatamente superior\n",
    "intMed"
   ]
  },
  {
   "cell_type": "markdown",
   "metadata": {},
   "source": [
    "Se toma el extremo inferior de este intervalo:"
   ]
  },
  {
   "cell_type": "code",
   "execution_count": 89,
   "metadata": {},
   "outputs": [
    {
     "data": {
      "text/plain": [
       "29"
      ]
     },
     "execution_count": 89,
     "metadata": {},
     "output_type": "execute_result"
    }
   ],
   "source": [
    "lMed = int(intMed[1:3])\n",
    "lMed"
   ]
  },
  {
   "cell_type": "markdown",
   "metadata": {},
   "source": [
    "Se determina la **frecuencia absoluta acumulada marginal** ($N_{.j}$) del intervalo anterior:"
   ]
  },
  {
   "cell_type": "code",
   "execution_count": 90,
   "metadata": {},
   "outputs": [
    {
     "data": {
      "text/plain": [
       "55"
      ]
     },
     "execution_count": 90,
     "metadata": {},
     "output_type": "execute_result"
    }
   ],
   "source": [
    "for intervalo, frecuencia in F·j.items():\n",
    "    if frecuencia <= 0.5:\n",
    "        intervalos.append(intervalo)\n",
    "        \n",
    "intAnt = intervalos[-1] #Intervalo inmediatamente inferior al que contiene la mediana\n",
    "intAnt\n",
    "\n",
    "N·j = np.cumsum(n·j)\n",
    "\n",
    "N·jAnt = N·j[intAnt]\n",
    "N·jAnt"
   ]
  },
  {
   "cell_type": "markdown",
   "metadata": {},
   "source": [
    "Y la frecuencia absoluta marginal del intervalo que contiene la mediana:"
   ]
  },
  {
   "cell_type": "code",
   "execution_count": 91,
   "metadata": {},
   "outputs": [
    {
     "data": {
      "text/plain": [
       "25"
      ]
     },
     "execution_count": 91,
     "metadata": {},
     "output_type": "execute_result"
    }
   ],
   "source": [
    "n·jMed = n·j[intMed]\n",
    "n·jMed"
   ]
  },
  {
   "cell_type": "markdown",
   "metadata": {},
   "source": [
    "Finalmente, la mediana se calcula como:"
   ]
  },
  {
   "cell_type": "code",
   "execution_count": 92,
   "metadata": {},
   "outputs": [
    {
     "data": {
      "text/plain": [
       "29"
      ]
     },
     "execution_count": 92,
     "metadata": {},
     "output_type": "execute_result"
    }
   ],
   "source": [
    "mediana = int(lMed + a * ((n/2 - N·jAnt)/n·jMed))\n",
    "mediana"
   ]
  },
  {
   "cell_type": "markdown",
   "metadata": {},
   "source": [
    "Con respecto a la **moda**, se puede estimar el **intervalo modal**, aquel con mayor **frecuencia relativa marginal** ($f_{.j}$):"
   ]
  },
  {
   "cell_type": "code",
   "execution_count": 93,
   "metadata": {},
   "outputs": [
    {
     "name": "stdout",
     "output_type": "stream",
     "text": [
      "[31, 33)\n"
     ]
    }
   ],
   "source": [
    "f·j = n·j/n\n",
    "\n",
    "for intervalo, frecuencia in f·j.items():\n",
    "    if frecuencia == f·j.max():\n",
    "        print(intervalo)"
   ]
  },
  {
   "cell_type": "markdown",
   "metadata": {},
   "source": [
    "### d) *Nivel de representatividad de la media del peso de la madre cuando el huevo está comprendido entre 25 y 27*"
   ]
  },
  {
   "cell_type": "markdown",
   "metadata": {},
   "source": [
    "En primer lugar, se determinan las **marcas de clase**, pero en este caso para la variable $X$, el peso de la madre ($x_{i}$):"
   ]
  },
  {
   "cell_type": "code",
   "execution_count": 94,
   "metadata": {},
   "outputs": [
    {
     "data": {
      "text/plain": [
       "[525.0, 575.0, 625.0]"
      ]
     },
     "execution_count": 94,
     "metadata": {},
     "output_type": "execute_result"
    }
   ],
   "source": [
    "l1 = 500 #Límite inferior del primer intervalo\n",
    "l2 = 550 #Límite superior del primer intervalo\n",
    "a = l2 - l1 #Amplitud de los intervalos\n",
    "s = 3 #Número de intervalos\n",
    "\n",
    "x1 = (l1 + l2)/2 #Primera marca de clase\n",
    "\n",
    "mc = it.count(start = x1, step = a)\n",
    "xi = [next(mc) for elemento in range(s)]\n",
    "xi"
   ]
  },
  {
   "cell_type": "markdown",
   "metadata": {},
   "source": [
    "Resulta interesante recodificar la tabla de frecuencias bivariada usando las marcas de clase en vez de los intervalos:"
   ]
  },
  {
   "cell_type": "code",
   "execution_count": 95,
   "metadata": {},
   "outputs": [
    {
     "data": {
      "text/html": [
       "<div>\n",
       "<style scoped>\n",
       "    .dataframe tbody tr th:only-of-type {\n",
       "        vertical-align: middle;\n",
       "    }\n",
       "\n",
       "    .dataframe tbody tr th {\n",
       "        vertical-align: top;\n",
       "    }\n",
       "\n",
       "    .dataframe thead th {\n",
       "        text-align: right;\n",
       "    }\n",
       "</style>\n",
       "<table border=\"1\" class=\"dataframe\">\n",
       "  <thead>\n",
       "    <tr style=\"text-align: right;\">\n",
       "      <th></th>\n",
       "      <th>26.0</th>\n",
       "      <th>28.0</th>\n",
       "      <th>30.0</th>\n",
       "      <th>32.0</th>\n",
       "      <th>Madre</th>\n",
       "    </tr>\n",
       "  </thead>\n",
       "  <tbody>\n",
       "    <tr>\n",
       "      <th>525.0</th>\n",
       "      <td>15</td>\n",
       "      <td>11</td>\n",
       "      <td>18</td>\n",
       "      <td>0</td>\n",
       "      <td>44</td>\n",
       "    </tr>\n",
       "    <tr>\n",
       "      <th>575.0</th>\n",
       "      <td>12</td>\n",
       "      <td>14</td>\n",
       "      <td>0</td>\n",
       "      <td>12</td>\n",
       "      <td>38</td>\n",
       "    </tr>\n",
       "    <tr>\n",
       "      <th>625.0</th>\n",
       "      <td>0</td>\n",
       "      <td>3</td>\n",
       "      <td>7</td>\n",
       "      <td>18</td>\n",
       "      <td>28</td>\n",
       "    </tr>\n",
       "    <tr>\n",
       "      <th>Huevo</th>\n",
       "      <td>27</td>\n",
       "      <td>28</td>\n",
       "      <td>25</td>\n",
       "      <td>30</td>\n",
       "      <td>110</td>\n",
       "    </tr>\n",
       "  </tbody>\n",
       "</table>\n",
       "</div>"
      ],
      "text/plain": [
       "       26.0  28.0  30.0  32.0  Madre\n",
       "525.0    15    11    18     0     44\n",
       "575.0    12    14     0    12     38\n",
       "625.0     0     3     7    18     28\n",
       "Huevo    27    28    25    30    110"
      ]
     },
     "execution_count": 95,
     "metadata": {},
     "output_type": "execute_result"
    }
   ],
   "source": [
    "tablaMarcas = pd.crosstab(index = X, columns = Y, margins = True)\n",
    "\n",
    "tablaMarcas.index = xi + [\"Huevo\"]\n",
    "tablaMarcas.columns = yj  + [\"Madre\"]\n",
    "\n",
    "tablaMarcas"
   ]
  },
  {
   "cell_type": "markdown",
   "metadata": {},
   "source": [
    "A partir de las marcas de clase y de las **frecuencias relativas condicionadas** $f_{i|1}$, se puede determinar la **media** ($\\bar{x}$) de $X$ en relación al primer intervalo de $Y$:"
   ]
  },
  {
   "cell_type": "code",
   "execution_count": 96,
   "metadata": {},
   "outputs": [
    {
     "data": {
      "text/plain": [
       "547.22"
      ]
     },
     "execution_count": 96,
     "metadata": {},
     "output_type": "execute_result"
    }
   ],
   "source": [
    "media = sum(xi * fi_1)\n",
    "\n",
    "mediaRed = round(media, 2)\n",
    "mediaRed"
   ]
  },
  {
   "cell_type": "markdown",
   "metadata": {},
   "source": [
    "Y a partir de la media se puede calcular la **desviación típica** ($S_{x}$):"
   ]
  },
  {
   "cell_type": "code",
   "execution_count": 97,
   "metadata": {},
   "outputs": [
    {
     "data": {
      "text/plain": [
       "24.85"
      ]
     },
     "execution_count": 97,
     "metadata": {},
     "output_type": "execute_result"
    }
   ],
   "source": [
    "var = sum(np.power(xi, 2) * fi_1) - media**2\n",
    "\n",
    "DT = mt.sqrt(var)\n",
    "\n",
    "DTRed = round(DT, 2)\n",
    "DTRed"
   ]
  },
  {
   "cell_type": "markdown",
   "metadata": {},
   "source": [
    "Con ambas, se calcula el **coeficiente de variación** ($CV$), que es el que indica el nivel de representatividad de la media:"
   ]
  },
  {
   "cell_type": "code",
   "execution_count": 98,
   "metadata": {},
   "outputs": [
    {
     "data": {
      "text/plain": [
       "0.045"
      ]
     },
     "execution_count": 98,
     "metadata": {},
     "output_type": "execute_result"
    }
   ],
   "source": [
    "CV = round(DT/media, 3)\n",
    "CV"
   ]
  },
  {
   "cell_type": "markdown",
   "metadata": {},
   "source": [
    "### e) *Independencia de las variables*"
   ]
  },
  {
   "cell_type": "markdown",
   "metadata": {},
   "source": [
    "Se va a estimar a partir del par $(x_{1}, y_{1})$:"
   ]
  },
  {
   "cell_type": "code",
   "execution_count": 99,
   "metadata": {},
   "outputs": [
    {
     "data": {
      "text/plain": [
       "False"
      ]
     },
     "execution_count": 99,
     "metadata": {},
     "output_type": "execute_result"
    }
   ],
   "source": [
    "f11 = tabla2D.iloc[0, 0]/n\n",
    "f1· = ni·.iloc[0]/n\n",
    "f·1 = n·j.iloc[0]/n\n",
    "\n",
    "f11 == f1· * f·1"
   ]
  },
  {
   "cell_type": "markdown",
   "metadata": {},
   "source": [
    "Dado que no se verifica la igualdad, las variables no son independientes."
   ]
  },
  {
   "cell_type": "markdown",
   "metadata": {},
   "source": [
    "### f) *Dependencia lineal de las variables*"
   ]
  },
  {
   "cell_type": "markdown",
   "metadata": {},
   "source": [
    "Se va a estimar a través del **coeficiente de correlación de Pearson** ($r$); en primer lugar, se calculan las varianzas de ambas variables:"
   ]
  },
  {
   "cell_type": "code",
   "execution_count": 100,
   "metadata": {},
   "outputs": [
    {
     "data": {
      "text/plain": [
       "1583.47"
      ]
     },
     "execution_count": 100,
     "metadata": {},
     "output_type": "execute_result"
    }
   ],
   "source": [
    "fi· = ni·/n #Frecuencias relativas marginales de x\n",
    "\n",
    "mediaX = sum(xi * fi·)\n",
    "\n",
    "varX = sum(np.power(xi, 2) * fi·) - mediaX**2\n",
    "\n",
    "varXRed = round(varX, 2)\n",
    "varXRed"
   ]
  },
  {
   "cell_type": "code",
   "execution_count": 101,
   "metadata": {},
   "outputs": [
    {
     "data": {
      "text/plain": [
       "5.14"
      ]
     },
     "execution_count": 101,
     "metadata": {},
     "output_type": "execute_result"
    }
   ],
   "source": [
    "f·j = n·j/n #Frecuencias relativas marginales de y\n",
    "\n",
    "mediaY = sum(yj * f·j)\n",
    "\n",
    "varY = sum(np.power(yj, 2) * f·j) - mediaY**2\n",
    "\n",
    "varYRed = round(varY, 2)\n",
    "varYRed"
   ]
  },
  {
   "cell_type": "markdown",
   "metadata": {},
   "source": [
    "En segundo lugar, la **covarianza** ($S_{XY}$):"
   ]
  },
  {
   "cell_type": "code",
   "execution_count": 102,
   "metadata": {},
   "outputs": [
    {
     "data": {
      "text/plain": [
       "44.03"
      ]
     },
     "execution_count": 102,
     "metadata": {},
     "output_type": "execute_result"
    }
   ],
   "source": [
    "a = (yj * np.array([xi[0]] * 4) * tabla2D.iloc[0, ])/n  \n",
    "b = (yj * np.array([xi[1]] * 4) * tabla2D.iloc[1, ])/n \n",
    "c = (yj * np.array([xi[2]] * 4) * tabla2D.iloc[2, ])/n\n",
    " \n",
    "covar = (a.sum() + b.sum() + c.sum()) - (mediaX * mediaY)\n",
    "\n",
    "covarRed = round(covar, 2)\n",
    "covarRed"
   ]
  },
  {
   "cell_type": "markdown",
   "metadata": {},
   "source": [
    "Y, finalmente, el coeficiente:"
   ]
  },
  {
   "cell_type": "code",
   "execution_count": 103,
   "metadata": {},
   "outputs": [
    {
     "data": {
      "text/plain": [
       "0.49"
      ]
     },
     "execution_count": 103,
     "metadata": {},
     "output_type": "execute_result"
    }
   ],
   "source": [
    "r = round(covar/mt.sqrt(varX * varY), 2)\n",
    "r"
   ]
  }
 ],
 "metadata": {
  "kernelspec": {
   "display_name": "Python 3 (ipykernel)",
   "language": "python",
   "name": "python3"
  },
  "language_info": {
   "codemirror_mode": {
    "name": "ipython",
    "version": 3
   },
   "file_extension": ".py",
   "mimetype": "text/x-python",
   "name": "python",
   "nbconvert_exporter": "python",
   "pygments_lexer": "ipython3",
   "version": "3.9.12"
  }
 },
 "nbformat": 4,
 "nbformat_minor": 4
}
